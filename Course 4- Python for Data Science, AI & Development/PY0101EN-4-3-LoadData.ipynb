{
  "cells": [
    {
      "cell_type": "markdown",
      "id": "8619ab92-7610-4924-80b4-8fbc85063a55",
      "metadata": {},
      "outputs": [],
      "source": [
        "<center>\n",
        "    <img src=\"https://cf-courses-data.s3.us.cloud-object-storage.appdomain.cloud/IBMDeveloperSkillsNetwork-PY0101EN-SkillsNetwork/IDSNlogo.png\" width=\"300\" alt=\"cognitiveclass.ai logo\">\n",
        "</center>\n",
        "\n",
        "# Introduction to Pandas in Python\n",
        "\n",
        "Estimated time needed: **15** minutes\n",
        "\n",
        "## Objectives\n",
        "\n",
        "After completing this lab you will be able to:\n",
        "\n",
        "*   Use Pandas to access and view data\n"
      ]
    },
    {
      "cell_type": "markdown",
      "id": "8902eb25-d8af-4f5f-bc1e-7e27dea92dbb",
      "metadata": {},
      "outputs": [],
      "source": [
        "<h2>Table of Contents</h2>\n",
        "<div class=\"alert alert-block alert-info\" style=\"margin-top: 20px\">\n",
        "    <ul>\n",
        "        <li><a href=\"https://https://data/?utm_medium=Exinfluencer&utm_source=Exinfluencer&utm_content=000026UJ&utm_term=10006555&utm_id=NA-SkillsNetwork-Channel-SkillsNetworkCoursesIBMDeveloperSkillsNetworkPY0101ENSkillsNetwork19487395-2021-01-01set/?utm_medium=Exinfluencer&utm_source=Exinfluencer&utm_content=000026UJ&utm_term=10006555&utm_id=NA-SkillsNetwork-Channel-SkillsNetworkCoursesIBMDeveloperSkillsNetworkPY0101ENSkillsNetwork19487395-2021-01-01\">About the Dataset</a></li>\n",
        "        <li><a href=\"https://pandas/?utm_medium=Exinfluencer&utm_source=Exinfluencer&utm_content=000026UJ&utm_term=10006555&utm_id=NA-SkillsNetwork-Channel-SkillsNetworkCoursesIBMDeveloperSkillsNetworkPY0101ENSkillsNetwork19487395-2021-01-01\">Introduction of <code>Pandas</code></a></li>\n",
        "        <li><a href=\"data\">Viewing Data and Accessing Data</a></li>\n",
        "        <li><a href=\"https://quiz/?utm_medium=Exinfluencer&utm_source=Exinfluencer&utm_content=000026UJ&utm_term=10006555&utm_id=NA-SkillsNetwork-Channel-SkillsNetworkCoursesIBMDeveloperSkillsNetworkPY0101ENSkillsNetwork19487395-2021-01-01\">Quiz on DataFrame</a></li>\n",
        "    </ul>\n",
        "\n",
        "</div>\n",
        "\n",
        "<hr>\n"
      ]
    },
    {
      "cell_type": "markdown",
      "id": "189bcb44-e1b5-4eae-b8f5-67d57b825b1b",
      "metadata": {},
      "outputs": [],
      "source": [
        "<h2 id=\"dataset\">About the Dataset</h2>\n"
      ]
    },
    {
      "cell_type": "markdown",
      "id": "550dc5f3-468c-40d4-be68-3b4092a44471",
      "metadata": {},
      "outputs": [],
      "source": [
        "The table has one row for each album and several columns.\n",
        "\n",
        "<ul>\n",
        "    <li><b>artist</b>: Name of the artist</li>\n",
        "    <li><b>album</b>: Name of the album</li>\n",
        "    <li><b>released_year</b>: Year the album was released</li>\n",
        "    <li><b>length_min_sec</b>: Length of the album (hours,minutes,seconds)</li>\n",
        "    <li><b>genre</b>: Genre of the album</li>\n",
        "    <li><b>music_recording_sales_millions</b>: Music recording sales (millions in USD) on <a href=\"http://www.song-database.com/?utm_medium=Exinfluencer&utm_source=Exinfluencer&utm_content=000026UJ&utm_term=10006555&utm_id=NA-SkillsNetwork-Channel-SkillsNetworkCoursesIBMDeveloperSkillsNetworkPY0101ENSkillsNetwork19487395-2021-01-01\">[SONG://DATABASE]</a></li>\n",
        "    <li><b>claimed_sales_millions</b>: Album's claimed sales (millions in USD) on <a href=\"http://www.song-database.com/?utm_medium=Exinfluencer&utm_source=Exinfluencer&utm_content=000026UJ&utm_term=10006555&utm_id=NA-SkillsNetwork-Channel-SkillsNetworkCoursesIBMDeveloperSkillsNetworkPY0101ENSkillsNetwork1005-2022-01-01\">[SONG://DATABASE]</a></li>\n",
        "    <li><b>date_released</b>: Date on which the album was released</li>\n",
        "    <li><b>soundtrack</b>: Indicates if the album is the movie soundtrack (Y) or (N)</li>\n",
        "    <li><b>rating_of_friends</b>: Indicates the rating from your friends from 1 to 10</li>\n",
        "</ul>\n",
        "\n",
        "You can see the dataset here:\n",
        "\n",
        "<font size=\"1\">\n",
        "<table font-size:xx-small>\n",
        "  <tr>\n",
        "    <th>Artist</th>\n",
        "    <th>Album</th> \n",
        "    <th>Released</th>\n",
        "    <th>Length</th>\n",
        "    <th>Genre</th> \n",
        "    <th>Music recording sales (millions)</th>\n",
        "    <th>Claimed sales (millions)</th>\n",
        "    <th>Released</th>\n",
        "    <th>Soundtrack</th>\n",
        "    <th>Rating (friends)</th>\n",
        "  </tr>\n",
        "  <tr>\n",
        "    <td>Michael Jackson</td>\n",
        "    <td>Thriller</td> \n",
        "    <td>1982</td>\n",
        "    <td>00:42:19</td>\n",
        "    <td>Pop, rock, R&B</td>\n",
        "    <td>46</td>\n",
        "    <td>65</td>\n",
        "    <td>30-Nov-82</td>\n",
        "    <td></td>\n",
        "    <td>10.0</td>\n",
        "  </tr>\n",
        "  <tr>\n",
        "    <td>AC/DC</td>\n",
        "    <td>Back in Black</td> \n",
        "    <td>1980</td>\n",
        "    <td>00:42:11</td>\n",
        "    <td>Hard rock</td>\n",
        "    <td>26.1</td>\n",
        "    <td>50</td>\n",
        "    <td>25-Jul-80</td>\n",
        "    <td></td>\n",
        "    <td>8.5</td>\n",
        "  </tr>\n",
        "    <tr>\n",
        "    <td>Pink Floyd</td>\n",
        "    <td>The Dark Side of the Moon</td> \n",
        "    <td>1973</td>\n",
        "    <td>00:42:49</td>\n",
        "    <td>Progressive rock</td>\n",
        "    <td>24.2</td>\n",
        "    <td>45</td>\n",
        "    <td>01-Mar-73</td>\n",
        "    <td></td>\n",
        "    <td>9.5</td>\n",
        "  </tr>\n",
        "    <tr>\n",
        "    <td>Whitney Houston</td>\n",
        "    <td>The Bodyguard</td> \n",
        "    <td>1992</td>\n",
        "    <td>00:57:44</td>\n",
        "    <td>Soundtrack/R&B, soul, pop</td>\n",
        "    <td>26.1</td>\n",
        "    <td>50</td>\n",
        "    <td>25-Jul-80</td>\n",
        "    <td>Y</td>\n",
        "    <td>7.0</td>\n",
        "  </tr>\n",
        "    <tr>\n",
        "    <td>Meat Loaf</td>\n",
        "    <td>Bat Out of Hell</td> \n",
        "    <td>1977</td>\n",
        "    <td>00:46:33</td>\n",
        "    <td>Hard rock, progressive rock</td>\n",
        "    <td>20.6</td>\n",
        "    <td>43</td>\n",
        "    <td>21-Oct-77</td>\n",
        "    <td></td>\n",
        "    <td>7.0</td>\n",
        "  </tr>\n",
        "    <tr>\n",
        "    <td>Eagles</td>\n",
        "    <td>Their Greatest Hits (1971-1975)</td> \n",
        "    <td>1976</td>\n",
        "    <td>00:43:08</td>\n",
        "    <td>Rock, soft rock, folk rock</td>\n",
        "    <td>32.2</td>\n",
        "    <td>42</td>\n",
        "    <td>17-Feb-76</td>\n",
        "    <td></td>\n",
        "    <td>9.5</td>\n",
        "  </tr>\n",
        "    <tr>\n",
        "    <td>Bee Gees</td>\n",
        "    <td>Saturday Night Fever</td> \n",
        "    <td>1977</td>\n",
        "    <td>1:15:54</td>\n",
        "    <td>Disco</td>\n",
        "    <td>20.6</td>\n",
        "    <td>40</td>\n",
        "    <td>15-Nov-77</td>\n",
        "    <td>Y</td>\n",
        "    <td>9.0</td>\n",
        "  </tr>\n",
        "    <tr>\n",
        "    <td>Fleetwood Mac</td>\n",
        "    <td>Rumours</td> \n",
        "    <td>1977</td>\n",
        "    <td>00:40:01</td>\n",
        "    <td>Soft rock</td>\n",
        "    <td>27.9</td>\n",
        "    <td>40</td>\n",
        "    <td>04-Feb-77</td>\n",
        "    <td></td>\n",
        "    <td>9.5</td>\n",
        "  </tr>\n",
        "</table></font>\n"
      ]
    },
    {
      "cell_type": "markdown",
      "id": "e4112d4e-9c66-4297-a8cc-56f1221171f9",
      "metadata": {},
      "outputs": [],
      "source": [
        "<hr>\n"
      ]
    },
    {
      "cell_type": "markdown",
      "id": "4bdaf392-e54e-4a5f-b904-2a2ed63ed65b",
      "metadata": {},
      "outputs": [],
      "source": [
        "<h2 id=\"pandas\">Introduction of <code>Pandas</code></h2>\n"
      ]
    },
    {
      "cell_type": "code",
      "id": "eb79d7bd-e622-417d-800c-7e1d9ae9b759",
      "metadata": {},
      "outputs": [],
      "source": [
        "# Dependency needed to install file \n\n# If running the notebook on your machine, else leave it commented\n#!pip install xlrd\n\n!pip install openpyxl \nimport piplite\nawait piplite.install(['xlrd','openpyxl'])"
      ]
    },
    {
      "cell_type": "code",
      "id": "ff907d8d-111c-437c-9d77-dbce4c921ba3",
      "metadata": {},
      "outputs": [],
      "source": [
        "# Import required library\n\nimport pandas as pd"
      ]
    },
    {
      "cell_type": "markdown",
      "id": "6527ef00-1899-4768-8969-c233b37979b2",
      "metadata": {},
      "outputs": [],
      "source": [
        "After the import command, we now have access to a large number of pre-built classes and functions. This assumes the library is installed; in our lab environment all the necessary libraries are installed. One way pandas allows you to work with data is a dataframe. Let's go through the process to go from a comma separated values (<b>.csv</b>) file to a dataframe. This variable <code>csv_path</code> stores the path of the <b>.csv</b>, that is  used as an argument to the <code>read_csv</code> function. The result is stored in the object <code>df</code>, this is a common short form used for a variable referring to a Pandas dataframe.\n"
      ]
    },
    {
      "cell_type": "code",
      "id": "308fe942-38b1-4173-8ec9-060f96bc0422",
      "metadata": {},
      "outputs": [],
      "source": [
        "# Read data from CSV file\n\n# csv_path = 'https://cf-courses-data.s3.us.cloud-object-storage.appdomain.cloud/IBMDeveloperSkillsNetwork-PY0101EN-SkillsNetwork/labs/Module%204/data/TopSellingAlbums.csv'\n# df = pd.read_csv(csv_path)\n\nfrom pyodide.http import pyfetch\nimport pandas as pd\n\nfilename = \"https://cf-courses-data.s3.us.cloud-object-storage.appdomain.cloud/IBMDeveloperSkillsNetwork-PY0101EN-SkillsNetwork/labs/Module%204/data/TopSellingAlbums.csv\"\n\nasync def download(url, filename):\n    response = await pyfetch(url)\n    if response.status == 200:\n        with open(filename, \"wb\") as f:\n            f.write(await response.bytes())\n\n\nawait download(filename, \"TopSellingAlbums.csv\")\ndf = pd.read_csv(\"TopSellingAlbums.csv\")"
      ]
    },
    {
      "cell_type": "markdown",
      "id": "031e5f7c-06e5-4292-b1d8-4deb10575421",
      "metadata": {},
      "outputs": [],
      "source": [
        "We can use the method <code>head()</code> to examine the first five rows of a dataframe:\n"
      ]
    },
    {
      "cell_type": "code",
      "id": "f1a7b7c7-7bd3-44da-9823-0b960f090590",
      "metadata": {},
      "outputs": [],
      "source": [
        "# Print first five rows of the dataframe\n\ndf.head()"
      ]
    },
    {
      "cell_type": "markdown",
      "id": "58cbeea1-8766-46ff-869d-4c097ab73a09",
      "metadata": {},
      "outputs": [],
      "source": [
        "We use the path of the excel file and the function <code>read_excel</code>. The result is a data frame as before:\n"
      ]
    },
    {
      "cell_type": "code",
      "id": "eae98f5d-e062-4359-b7c4-e8867cd70c9f",
      "metadata": {},
      "outputs": [],
      "source": [
        "# Read data from Excel File and print the first five rows\n\nxlsx_path = 'https://s3-api.us-geo.objectstorage.softlayer.net/cf-courses-data/CognitiveClass/PY0101EN/Chapter%204/Datasets/TopSellingAlbums.xlsx'\n\nawait download(xlsx_path, \"TopSellingAlbums.xlsx\")\ndf = pd.read_excel(\"TopSellingAlbums.xlsx\")\ndf.head()"
      ]
    },
    {
      "cell_type": "markdown",
      "id": "f462f6df-0df2-4866-b615-486a460146b7",
      "metadata": {},
      "outputs": [],
      "source": [
        "We can access the column <b>Length</b> and assign it a new dataframe <b>x</b>:\n"
      ]
    },
    {
      "cell_type": "code",
      "id": "6be54745-5148-4168-a68d-49c4f0868a82",
      "metadata": {},
      "outputs": [],
      "source": [
        "# Access to the column Length\n\nx = df[['Length']]\nx"
      ]
    },
    {
      "cell_type": "markdown",
      "id": "27d40be7-4b5d-42d7-9447-8235e51b0e5a",
      "metadata": {},
      "outputs": [],
      "source": [
        "The process is shown in the figure:\n"
      ]
    },
    {
      "cell_type": "markdown",
      "id": "d0825781-068f-4b26-bb25-f8ad5990209c",
      "metadata": {},
      "outputs": [],
      "source": [
        "<img src=\"https://cf-courses-data.s3.us.cloud-object-storage.appdomain.cloud/IBMDeveloperSkillsNetwork-PY0101EN-SkillsNetwork/labs/Module%204/images/DataEgOne.png\" width=\"750\">\n"
      ]
    },
    {
      "cell_type": "markdown",
      "id": "1a80c8f9-86d5-42d8-8d37-3c250eb50b54",
      "metadata": {},
      "outputs": [],
      "source": [
        "<hr>\n"
      ]
    },
    {
      "cell_type": "markdown",
      "id": "7eb21ccc-a830-44c7-b25b-ea5f5007e0a1",
      "metadata": {},
      "outputs": [],
      "source": [
        "<h2 id=\"data\">Viewing Data and Accessing Data</h2>\n"
      ]
    },
    {
      "cell_type": "markdown",
      "id": "b4596d08-7a56-4c7e-b8ae-99d00e5c0abb",
      "metadata": {},
      "outputs": [],
      "source": [
        "You can also get a column as a series. You can think of a Pandas series as a 1-D dataframe. Just use one bracket:\n"
      ]
    },
    {
      "cell_type": "code",
      "id": "434dbcbf-e5ac-4fbc-9116-961ab89bc2c8",
      "metadata": {},
      "outputs": [],
      "source": [
        "# Get the column as a series\n\nx = df['Length']\nx"
      ]
    },
    {
      "cell_type": "markdown",
      "id": "b21e85fb-44c3-43c4-85a2-1e5f08d18cda",
      "metadata": {},
      "outputs": [],
      "source": [
        "You can also get a column as a dataframe. For example, we can assign the column <b>Artist</b>:\n"
      ]
    },
    {
      "cell_type": "code",
      "id": "2b0844a7-2d34-4359-b1ff-11a6731261db",
      "metadata": {},
      "outputs": [],
      "source": [
        "# Get the column as a dataframe\n\nx = df[['Artist']]\ntype(x)"
      ]
    },
    {
      "cell_type": "markdown",
      "id": "2efe73ec-2e34-45ae-baba-3a42e8fd223e",
      "metadata": {},
      "outputs": [],
      "source": [
        "You can do the same thing for multiple columns; we just put the dataframe name, in this case, <code>df</code>, and the name of the multiple column headers enclosed in double brackets. The result is a new dataframe comprised of the specified columns:\n"
      ]
    },
    {
      "cell_type": "code",
      "id": "a5e169be-ca0a-4440-947e-b11a86416c07",
      "metadata": {},
      "outputs": [],
      "source": [
        "# Access to multiple columns\n\ny = df[['Artist','Length','Genre']]\ny"
      ]
    },
    {
      "cell_type": "markdown",
      "id": "433119ba-95b3-49ea-91ab-f9ee03e8f40a",
      "metadata": {},
      "outputs": [],
      "source": [
        "The process is shown in the figure:\n"
      ]
    },
    {
      "cell_type": "markdown",
      "id": "26ef7086-1410-4a10-981f-9bdedad74850",
      "metadata": {},
      "outputs": [],
      "source": [
        "<img src=\"https://cf-courses-data.s3.us.cloud-object-storage.appdomain.cloud/IBMDeveloperSkillsNetwork-PY0101EN-SkillsNetwork/labs/Module%204/images/DataEgTwo.png\" width=\"1100\">\n"
      ]
    },
    {
      "cell_type": "markdown",
      "id": "2b10530d-1a56-447a-bf0f-aacd5d2d12a0",
      "metadata": {},
      "outputs": [],
      "source": [
        "One way to access unique elements is the <code>iloc</code> method, where you can access the 1st row and the 1st column as follows:\n"
      ]
    },
    {
      "cell_type": "code",
      "id": "b9801b35-1b37-49f9-ac01-5c7f75bf1a72",
      "metadata": {},
      "outputs": [],
      "source": [
        "# Access the value on the first row and the first column\n\ndf.iloc[0, 0]"
      ]
    },
    {
      "cell_type": "markdown",
      "id": "136073df-4ffe-492f-a036-1e424fd5b82b",
      "metadata": {},
      "outputs": [],
      "source": [
        "You can access the 2nd row and the 1st column as follows:\n"
      ]
    },
    {
      "cell_type": "code",
      "id": "e8fc2f78-2766-407b-8767-4c58ad4758b9",
      "metadata": {},
      "outputs": [],
      "source": [
        "# Access the value on the second row and the first column\n\ndf.iloc[1,0]"
      ]
    },
    {
      "cell_type": "markdown",
      "id": "2e6cef47-c0b6-438f-9505-5447526a6c22",
      "metadata": {},
      "outputs": [],
      "source": [
        "You can access the 1st row and the 3rd column as follows:\n"
      ]
    },
    {
      "cell_type": "code",
      "id": "3b52bd2d-8e4f-428c-903e-5a01a1bc42e4",
      "metadata": {},
      "outputs": [],
      "source": [
        "# Access the value on the first row and the third column\n\ndf.iloc[0,2]"
      ]
    },
    {
      "cell_type": "code",
      "id": "a0ff615e-3a3b-4650-8989-b0159d4a21c8",
      "metadata": {},
      "outputs": [],
      "source": [
        "# Access the value on the second row and the third column\ndf.iloc[1,2]"
      ]
    },
    {
      "cell_type": "code",
      "id": "702bd225-e02e-43b6-9622-f01760c81513",
      "metadata": {},
      "outputs": [],
      "source": [
        ""
      ]
    },
    {
      "cell_type": "markdown",
      "id": "a178088b-f46c-461f-ab44-38cbd68de59f",
      "metadata": {},
      "outputs": [],
      "source": [
        "This is shown in the following image\n"
      ]
    },
    {
      "cell_type": "markdown",
      "id": "ac0ac26b-0252-4973-823d-c20e2b040774",
      "metadata": {},
      "outputs": [],
      "source": [
        "<img src=\"https://cf-courses-data.s3.us.cloud-object-storage.appdomain.cloud/IBMDeveloperSkillsNetwork-PY0101EN-SkillsNetwork/labs/Module%204/images/2_loc.PNG\" width=\"750\">\n"
      ]
    },
    {
      "cell_type": "markdown",
      "id": "3b8d7e01-d0c2-418e-bfea-fb93506790a0",
      "metadata": {},
      "outputs": [],
      "source": [
        "You can access the column using the name as well, the following are the same as above:\n"
      ]
    },
    {
      "cell_type": "code",
      "id": "b9ff5c8e-e0fc-4358-9b62-8b55a14203a7",
      "metadata": {},
      "outputs": [],
      "source": [
        "# Access the column using the name\n\ndf.loc[1, 'Artist']"
      ]
    },
    {
      "cell_type": "code",
      "id": "b75ab53f-a685-4316-a068-c2472b5f58d6",
      "metadata": {},
      "outputs": [],
      "source": [
        "# Access the column using the name\n\ndf.loc[1, 'Artist']"
      ]
    },
    {
      "cell_type": "code",
      "id": "abf08646-b2b8-4db1-b8d3-97870fcec9b7",
      "metadata": {},
      "outputs": [],
      "source": [
        "# Access the column using the name\n\ndf.loc[0, 'Released']"
      ]
    },
    {
      "cell_type": "code",
      "id": "7f320b98-7ca9-4e8a-8784-25ff0e381638",
      "metadata": {},
      "outputs": [],
      "source": [
        "# Access the column using the name\n\ndf.loc[1, 'Released']"
      ]
    },
    {
      "cell_type": "markdown",
      "id": "f979bd79-a5ec-44d2-adb1-c0ab4e9a1077",
      "metadata": {},
      "outputs": [],
      "source": [
        "<img src=\"https://cf-courses-data.s3.us.cloud-object-storage.appdomain.cloud/IBMDeveloperSkillsNetwork-PY0101EN-SkillsNetwork/labs/Module%204/images/1_loc.png\" width=\"750\">\n"
      ]
    },
    {
      "cell_type": "markdown",
      "id": "68c105bf-75b2-44e9-9542-601d0382ee38",
      "metadata": {},
      "outputs": [],
      "source": [
        "You can perform slicing using both the index and the name of the column:\n"
      ]
    },
    {
      "cell_type": "code",
      "id": "a03ea361-3557-44d7-b09f-e31cf084d92a",
      "metadata": {},
      "outputs": [],
      "source": [
        "# Slicing the dataframe\n\ndf.iloc[0:2, 0:3]"
      ]
    },
    {
      "cell_type": "markdown",
      "id": "50ce22c2-134f-40e3-9cc5-e752f7bbf4c7",
      "metadata": {},
      "outputs": [],
      "source": [
        "<img src=\"https://cf-courses-data.s3.us.cloud-object-storage.appdomain.cloud/IBMDeveloperSkillsNetwork-PY0101EN-SkillsNetwork/labs/Module%204/images/4_loc.png\" width=\"750\">\n"
      ]
    },
    {
      "cell_type": "code",
      "id": "0aed8d14-0552-4765-9fa1-0ed68d7665b8",
      "metadata": {},
      "outputs": [],
      "source": [
        "# Slicing the dataframe using name\n\ndf.loc[0:2, 'Artist':'Released']"
      ]
    },
    {
      "cell_type": "markdown",
      "id": "1c122465-0d15-4004-adac-32a6abbebd50",
      "metadata": {},
      "outputs": [],
      "source": [
        "<img src=\"https://cf-courses-data.s3.us.cloud-object-storage.appdomain.cloud/IBMDeveloperSkillsNetwork-PY0101EN-SkillsNetwork/labs/Module%204/images/3_loc.png\" width=\"750\">\n"
      ]
    },
    {
      "cell_type": "markdown",
      "id": "c77a9e31-dc53-4326-bf94-e638fde8850c",
      "metadata": {},
      "outputs": [],
      "source": [
        "<hr>\n"
      ]
    },
    {
      "cell_type": "markdown",
      "id": "00677874-5f24-4758-a8df-3c7d479ed3f0",
      "metadata": {},
      "outputs": [],
      "source": [
        "<h2 id=\"quiz\">Quiz on DataFrame</h2>\n"
      ]
    },
    {
      "cell_type": "markdown",
      "id": "05d4ec3f-175e-419a-a002-24648d910f0d",
      "metadata": {},
      "outputs": [],
      "source": [
        "Use a variable <code>q</code> to store the column <b>Rating</b> as a dataframe\n"
      ]
    },
    {
      "cell_type": "code",
      "id": "0b7cc978-6439-490a-a140-c7f4c9c03910",
      "metadata": {},
      "outputs": [],
      "source": [
        "# Write your code below and press Shift+Enter to execute\n"
      ]
    },
    {
      "cell_type": "markdown",
      "id": "01e3805c-5e02-41b5-beb8-8aa25a1a823f",
      "metadata": {},
      "outputs": [],
      "source": [
        "<details><summary>Click here for the solution</summary>\n",
        "\n",
        "```python\n",
        "q = df[['Rating']]\n",
        "q\n",
        "    \n",
        "```\n",
        "\n",
        "</details>\n"
      ]
    },
    {
      "cell_type": "markdown",
      "id": "65f01067-63b2-4566-af9b-e7236e256ee9",
      "metadata": {},
      "outputs": [],
      "source": [
        "Assign the variable <code>q</code> to the dataframe that is made up of the column <b>Released</b> and <b>Artist</b>:\n"
      ]
    },
    {
      "cell_type": "code",
      "id": "d7559fb3-2c42-42f6-ba9b-b06e1c8f2cea",
      "metadata": {},
      "outputs": [],
      "source": [
        "# Write your code below and press Shift+Enter to execute\n"
      ]
    },
    {
      "cell_type": "markdown",
      "id": "6222ab92-d61c-4e1c-938a-31887316595e",
      "metadata": {},
      "outputs": [],
      "source": [
        "<details><summary>Click here for the solution</summary>\n",
        "\n",
        "```python\n",
        "q = df[['Released', 'Artist']]\n",
        "q\n",
        "    \n",
        "```\n",
        "\n",
        "</details>\n"
      ]
    },
    {
      "cell_type": "markdown",
      "id": "821ad5cb-849c-4449-bbf7-409ce1536f4e",
      "metadata": {},
      "outputs": [],
      "source": [
        "Access the 2nd row and the 3rd column of <code>df</code>:\n"
      ]
    },
    {
      "cell_type": "code",
      "id": "356ec975-66c9-4553-8cc8-b738333a0915",
      "metadata": {},
      "outputs": [],
      "source": [
        "# Write your code below and press Shift+Enter to execute\n"
      ]
    },
    {
      "cell_type": "markdown",
      "id": "f2291fe6-c259-4f8c-af0c-ddc8535bee9a",
      "metadata": {},
      "outputs": [],
      "source": [
        "<details><summary>Click here for the solution</summary>\n",
        "\n",
        "```python\n",
        "df.iloc[1, 2]\n",
        "    \n",
        "```\n",
        "\n",
        "</details>\n"
      ]
    },
    {
      "cell_type": "markdown",
      "id": "ce85840a-d046-4355-bf8b-7598c875af17",
      "metadata": {},
      "outputs": [],
      "source": [
        "Use the following list to convert the dataframe index <code>df</code> to characters and assign it to <code>df_new</code>; find the element corresponding to the row index <code>a</code> and column  <code>'Artist'</code>. Then select the rows <code>a</code> through <code>d</code> for the column  <code>'Artist'</code>\n"
      ]
    },
    {
      "cell_type": "code",
      "id": "6f3d1ccb-2016-4c62-a440-c2437e0378f4",
      "metadata": {},
      "outputs": [],
      "source": [
        "new_index=['a','b','c','d','e','f','g','h']\n\n"
      ]
    },
    {
      "cell_type": "markdown",
      "id": "d52e6e61-d2c7-4275-bcea-b86a119512d6",
      "metadata": {},
      "outputs": [],
      "source": [
        "<details><summary>Click here for the solution</summary>\n",
        "\n",
        "```python\n",
        "df_new=df\n",
        "df_new.index=new_index\n",
        "df_new.loc['a', 'Artist']\n",
        "df_new.loc['a':'d', 'Artist']\n",
        "    \n",
        "```\n",
        "\n",
        "</details>\n"
      ]
    },
    {
      "cell_type": "markdown",
      "id": "9dbbcd0e-47bc-4825-b28f-ac3609273530",
      "metadata": {},
      "outputs": [],
      "source": [
        "<hr>\n",
        "<h2>The last exercise!</h2>\n",
        "<p>Congratulations, you have completed your first lesson and hands-on lab in Python. \n",
        "<hr>\n"
      ]
    },
    {
      "cell_type": "markdown",
      "id": "17caf316-53a6-40f2-b389-828464881f1c",
      "metadata": {},
      "outputs": [],
      "source": [
        "## Authors:\n",
        "\n",
        "[Joseph Santarcangelo](https://www.linkedin.com/in/joseph-s-50398b136/?utm_medium=Exinfluencer&utm_source=Exinfluencer&utm_content=000026UJ&utm_term=10006555&utm_id=NA-SkillsNetwork-Channel-SkillsNetworkCoursesIBMDeveloperSkillsNetworkPY0101ENSkillsNetwork19487395-2021-01-01)\n",
        "\n",
        "Joseph Santarcangelo has a PhD in Electrical Engineering, his research focused on using machine learning, signal processing, and computer vision to determine how videos impact human cognition. Joseph has been working for IBM since he completed his PhD.\n",
        "\n",
        "## Change Log\n",
        "\n",
        "| Date (YYYY-MM-DD) | Version | Changed By | Change Description                 |\n",
        "| ----------------- | ------- | ---------- | ---------------------------------- |\n",
        "| 2022-01-10        | 2.1     | Malika     | Removed the readme for GitShare    |\n",
        "| 2020-08-26        | 2.0     | Lavanya    | Moved lab to course repo in GitLab |\n",
        "| 2020-11-24        | 3.0     | Nayef      | Added new images                   |\n",
        "|                   |         |            |                                    |\n",
        "\n",
        "<hr/>\n",
        "\n",
        "## <h3 align=\"center\"> © IBM Corporation 2020. All rights reserved. <h3/>\n"
      ]
    }
  ],
  "metadata": {
    "kernelspec": {
      "display_name": "Python",
      "language": "python",
      "name": "conda-env-python-py"
    },
    "language_info": {
      "name": ""
    }
  },
  "nbformat": 4,
  "nbformat_minor": 4
}