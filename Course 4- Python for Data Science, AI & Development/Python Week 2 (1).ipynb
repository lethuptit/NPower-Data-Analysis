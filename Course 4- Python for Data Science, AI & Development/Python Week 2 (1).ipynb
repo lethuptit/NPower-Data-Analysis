{
 "cells": [
  {
   "cell_type": "code",
   "execution_count": 1,
   "id": "c71fa3ab",
   "metadata": {},
   "outputs": [],
   "source": [
    "#Lists in Python\n",
    "#Lists are used to store multiple items in a single variable.\n",
    "#List items are ordered, changeable, and allow duplicate values.#List items are indexed, the first item has index [0],\n",
    "#the second item has index[1]\n",
    "#When we say that lists are ordered, it means that the items have a defined order, and that order will not change.\n",
    "#If you add new items to a list, the new items will be placed at the end of the list."
   ]
  },
  {
   "cell_type": "code",
   "execution_count": 2,
   "id": "822ae536",
   "metadata": {},
   "outputs": [
    {
     "name": "stdout",
     "output_type": "stream",
     "text": [
      "['apple', 'banana', 'cherry']\n"
     ]
    }
   ],
   "source": [
    "list1 = [\"apple\", \"banana\", \"cherry\"]\n",
    "print(list1)"
   ]
  },
  {
   "cell_type": "code",
   "execution_count": 3,
   "id": "aa0a2aed",
   "metadata": {},
   "outputs": [
    {
     "name": "stdout",
     "output_type": "stream",
     "text": [
      "['apple', 'banana', 'cherry', 'apple', 'banana']\n"
     ]
    }
   ],
   "source": [
    "#Allows duplicates\n",
    "#Since lists are indexed, lists can have items with the same value:\n",
    "list1 = [\"apple\", \"banana\", \"cherry\",\"apple\",\"banana\"]\n",
    "print(list1)"
   ]
  },
  {
   "cell_type": "code",
   "execution_count": 4,
   "id": "fa16f519",
   "metadata": {},
   "outputs": [
    {
     "name": "stdout",
     "output_type": "stream",
     "text": [
      "<class 'list'>\n"
     ]
    }
   ],
   "source": [
    "#data type oflist\n",
    "list2 = [\"apple\", \"banana\", \"cherry\"]\n",
    "print(type(list2))"
   ]
  },
  {
   "cell_type": "code",
   "execution_count": 7,
   "id": "2191b5bb",
   "metadata": {},
   "outputs": [
    {
     "name": "stdout",
     "output_type": "stream",
     "text": [
      "['apple', 'banana', 'cherry', 'orange']\n",
      "mango\n",
      "['cherry', 'orange', 'kiwi']\n"
     ]
    }
   ],
   "source": [
    "#Accesssing List Items\n",
    "list3 = [\"apple\", \"banana\", \"cherry\", \"orange\", \"kiwi\", \"melon\", \"mango\"]\n",
    "print(list3[:4])\n",
    "print(list3[-1])\n",
    "print(list3[2:5])"
   ]
  },
  {
   "cell_type": "code",
   "execution_count": 8,
   "id": "b5874e08",
   "metadata": {},
   "outputs": [
    {
     "name": "stdout",
     "output_type": "stream",
     "text": [
      "Item is present in List\n"
     ]
    }
   ],
   "source": [
    "#if condition with List\n",
    "list3 = [\"apple\", \"banana\", \"cherry\", \"orange\", \"kiwi\", \"melon\", \"mango\"]\n",
    "if \"apple\" in list3:\n",
    "    print(\"Item is present in List\")"
   ]
  },
  {
   "cell_type": "code",
   "execution_count": 9,
   "id": "2cfa6381",
   "metadata": {},
   "outputs": [],
   "source": [
    "#Tuples\n",
    "#Very similar to list, but are not changeable and allows duplicates "
   ]
  },
  {
   "cell_type": "code",
   "execution_count": 11,
   "id": "6e430f16",
   "metadata": {},
   "outputs": [
    {
     "name": "stdout",
     "output_type": "stream",
     "text": [
      "('apple', 'kiwi', 'cherry')\n"
     ]
    }
   ],
   "source": [
    "tuple1 = (\"apple\", \"banana\", \"cherry\")\n",
    "tuple2 = list(tuple1)\n",
    "tuple2[1] = \"kiwi\"\n",
    "tuple1 = tuple(tuple2)\n",
    "print(tuple1)"
   ]
  },
  {
   "cell_type": "code",
   "execution_count": 13,
   "id": "21e3bcbc",
   "metadata": {},
   "outputs": [
    {
     "name": "stdout",
     "output_type": "stream",
     "text": [
      "<class 'tuple'>\n",
      "<class 'str'>\n"
     ]
    }
   ],
   "source": [
    "#One tuple item. \n",
    "tuple3 = (\"Welcome\",)\n",
    "print(type(tuple3))\n",
    "\n",
    "tuple4=(\"Welcome\")\n",
    "print(type(tuple4))"
   ]
  },
  {
   "cell_type": "code",
   "execution_count": null,
   "id": "4c80eb39",
   "metadata": {},
   "outputs": [],
   "source": []
  }
 ],
 "metadata": {
  "kernelspec": {
   "display_name": "Python 3 (ipykernel)",
   "language": "python",
   "name": "python3"
  },
  "language_info": {
   "codemirror_mode": {
    "name": "ipython",
    "version": 3
   },
   "file_extension": ".py",
   "mimetype": "text/x-python",
   "name": "python",
   "nbconvert_exporter": "python",
   "pygments_lexer": "ipython3",
   "version": "3.9.7"
  }
 },
 "nbformat": 4,
 "nbformat_minor": 5
}
