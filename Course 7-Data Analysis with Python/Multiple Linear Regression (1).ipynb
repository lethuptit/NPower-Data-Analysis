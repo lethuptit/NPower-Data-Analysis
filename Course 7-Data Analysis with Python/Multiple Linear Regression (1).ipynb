{
 "cells": [
  {
   "cell_type": "code",
   "execution_count": 1,
   "id": "68086b40",
   "metadata": {},
   "outputs": [],
   "source": [
    "#Step-1 In Python we have modules that will do the work for us. Start by importing the Pandas module."
   ]
  },
  {
   "cell_type": "code",
   "execution_count": 2,
   "id": "219e4b52",
   "metadata": {},
   "outputs": [],
   "source": [
    "import pandas\n",
    "from sklearn import linear_model"
   ]
  },
  {
   "cell_type": "code",
   "execution_count": 3,
   "id": "b44899a4",
   "metadata": {},
   "outputs": [],
   "source": [
    "#Step-2 The Pandas module allows us to read csv files and return a DataFrame object."
   ]
  },
  {
   "cell_type": "code",
   "execution_count": 5,
   "id": "c9171656",
   "metadata": {},
   "outputs": [],
   "source": [
    "df = pandas.read_csv(\"C:\\\\Users\\\\Virali Shah\\\\Downloads\\\\cars.csv\") "
   ]
  },
  {
   "cell_type": "code",
   "execution_count": 6,
   "id": "123a74bd",
   "metadata": {},
   "outputs": [],
   "source": [
    "#Step-3 Then make a list of the independent values and call this variable \"X\" & Dependent variable \"Y\""
   ]
  },
  {
   "cell_type": "code",
   "execution_count": 7,
   "id": "251fce5c",
   "metadata": {},
   "outputs": [],
   "source": [
    "X = df[['Weight', 'Volume']]\n",
    "y = df['CO2'] "
   ]
  },
  {
   "cell_type": "code",
   "execution_count": 8,
   "id": "5b54ac7f",
   "metadata": {},
   "outputs": [],
   "source": [
    "#Step-4 use LinearRegression() from sklearn module to create a linear regression object.\n",
    "#This object has a method called fit() that takes the independent and dependent values as parameters \n",
    "#and fills the regression object with data that describes the relationship:"
   ]
  },
  {
   "cell_type": "code",
   "execution_count": 9,
   "id": "bca0abef",
   "metadata": {},
   "outputs": [
    {
     "data": {
      "text/plain": [
       "LinearRegression()"
      ]
     },
     "execution_count": 9,
     "metadata": {},
     "output_type": "execute_result"
    }
   ],
   "source": [
    "regr = linear_model.LinearRegression()\n",
    "regr.fit(X, y)"
   ]
  },
  {
   "cell_type": "code",
   "execution_count": 10,
   "id": "41b3493c",
   "metadata": {},
   "outputs": [],
   "source": [
    "#predict the CO2 emission of a car where the weight is 2300kg, and the volume is 1300cm3:\n",
    "predictedCO2 = regr.predict([[2300, 1300]])"
   ]
  },
  {
   "cell_type": "code",
   "execution_count": 11,
   "id": "b9237aa2",
   "metadata": {},
   "outputs": [
    {
     "name": "stdout",
     "output_type": "stream",
     "text": [
      "[107.2087328]\n"
     ]
    }
   ],
   "source": [
    "print(predictedCO2) "
   ]
  },
  {
   "cell_type": "code",
   "execution_count": 12,
   "id": "93c55c4a",
   "metadata": {},
   "outputs": [],
   "source": [
    "#We have predicted that a car with 1.3 liter engine, and a weight of 2300 kg, \n",
    "#will release approximately 107 grams of CO2 for every kilometer it drives."
   ]
  },
  {
   "cell_type": "code",
   "execution_count": 13,
   "id": "cf75e538",
   "metadata": {},
   "outputs": [],
   "source": [
    "#Printing Coefficient\n"
   ]
  },
  {
   "cell_type": "code",
   "execution_count": 14,
   "id": "3d39eeaf",
   "metadata": {},
   "outputs": [
    {
     "name": "stdout",
     "output_type": "stream",
     "text": [
      "[0.00755095 0.00780526]\n"
     ]
    }
   ],
   "source": [
    "print(regr.coef_) \n"
   ]
  },
  {
   "cell_type": "code",
   "execution_count": 15,
   "id": "57b4ff8d",
   "metadata": {},
   "outputs": [],
   "source": [
    "#The result array represents the coefficient values of weight and volume.\n",
    "\n",
    "#Weight: 0.00755095\n",
    "#Volume: 0.00780526\n",
    "\n",
    "#These values tell us that if the weight increase by 1kg, the CO2 emission increases by 0.00755095g.\n",
    "\n",
    "#And if the engine size (Volume) increases by 1 cm3, the CO2 emission increases by 0.00780526 g."
   ]
  },
  {
   "cell_type": "code",
   "execution_count": 16,
   "id": "d0cc1e0c",
   "metadata": {},
   "outputs": [],
   "source": [
    "#We have already predicted that if a car with a 1300cm3 engine weighs 2300kg, the CO2 emission will be approximately 107g.\n",
    "\n",
    "#What if we increase the weight with 1000kg?"
   ]
  },
  {
   "cell_type": "code",
   "execution_count": 17,
   "id": "f7091051",
   "metadata": {},
   "outputs": [
    {
     "name": "stdout",
     "output_type": "stream",
     "text": [
      "[114.75968007]\n"
     ]
    }
   ],
   "source": [
    "predictedCO2 = regr.predict([[3300, 1300]])\n",
    "\n",
    "print(predictedCO2) "
   ]
  },
  {
   "cell_type": "code",
   "execution_count": 18,
   "id": "8e38aa60",
   "metadata": {},
   "outputs": [],
   "source": [
    "# We have predicted that a car with 1.3 liter engine, and a weight of 3300 kg, will release \n",
    "#approximately 115 grams of CO2 for every kilometer it drives.\n",
    "\n",
    "#Which shows that the coefficient of 0.00755095 is correct:\n",
    "\n",
    "#107.2087328 + (1000 * 0.00755095) = 114.75968"
   ]
  },
  {
   "cell_type": "code",
   "execution_count": null,
   "id": "7d8640c5",
   "metadata": {},
   "outputs": [],
   "source": []
  }
 ],
 "metadata": {
  "kernelspec": {
   "display_name": "Python 3 (ipykernel)",
   "language": "python",
   "name": "python3"
  },
  "language_info": {
   "codemirror_mode": {
    "name": "ipython",
    "version": 3
   },
   "file_extension": ".py",
   "mimetype": "text/x-python",
   "name": "python",
   "nbconvert_exporter": "python",
   "pygments_lexer": "ipython3",
   "version": "3.9.7"
  }
 },
 "nbformat": 4,
 "nbformat_minor": 5
}
