{
  "cells": [
    {
      "cell_type": "markdown",
      "id": "f8dabf3f-bfa7-44e4-b2fc-0dca63357893",
      "metadata": {},
      "outputs": [],
      "source": [
        "<center>\n",
        "    <img src=\"https://cf-courses-data.s3.us.cloud-object-storage.appdomain.cloud/IBMDeveloperSkillsNetwork-DV0101EN-SkillsNetwork/labs/Module%204/logo.png\" width=\"300\" alt=\"cognitiveclass.ai logo\">\n",
        "</center>\n"
      ]
    },
    {
      "cell_type": "markdown",
      "id": "d00bec15-5e48-4808-aa84-4e453aae7df0",
      "metadata": {},
      "outputs": [],
      "source": [
        "# Basic Plotly Charts\n",
        "\n",
        "Estimated time needed: 45 minutes\n"
      ]
    },
    {
      "cell_type": "markdown",
      "id": "78d75991-877c-49d2-b063-cdb7412fca75",
      "metadata": {},
      "outputs": [],
      "source": [
        "# Objectives\n",
        "\n",
        "\n",
        "After completing this lab, you will be able to:\n",
        "\n",
        "*   Use plotly graph objects and plotly express libraries to plot different types of charts\n",
        "*   Create interesting visualizations on Airline Reporting Carrier On-Time Performance Dataset \n"
      ]
    },
    {
      "cell_type": "markdown",
      "id": "c3789afc-43fb-4b29-b8fd-6b3a013e0b73",
      "metadata": {},
      "outputs": [],
      "source": [
        "# Plotly graph objects and Plotly express libraries to plot different types of charts \n",
        "\n",
        "## Plotly Libraries\n",
        "\n",
        "**plotly.graph_objects:** \n",
        "This is a low level interface to figures, traces and layout. The Plotly graph objects module provides an automatically generated hierarchy of classes ( figures, traces, and layout) called graph objects. These graph objects represent figures with a top-level class plotly.graph_objects.Figure.\n",
        "\n",
        "**plotly.express:** \n",
        "Plotly express is a high-level wrapper for Plotly. It is a recommended starting point for creating the most common figures provided by Plotly using a simpler syntax. It uses graph objects internally.\n",
        "Now let us use these libraries to plot some charts\n",
        "We will start with plotly_graph_objects to plot line and scatter plots\n",
        "> Note: You can hover the mouse over the charts whenever you want to view any statistics in the visualization charts \n",
        "\n",
        "\n",
        "\n",
        "\n",
        "## Exercise I: Get Started with Different Chart types in Plotly\n"
      ]
    },
    {
      "cell_type": "code",
      "id": "c459757a-5303-427c-ab60-1009a1de1bf5",
      "metadata": {},
      "outputs": [],
      "source": [
        "import piplite\n\nawait piplite.install(['nbformat', 'plotly'])"
      ]
    },
    {
      "cell_type": "code",
      "id": "415304fc-61cc-4b27-83a7-ad70e6579ca7",
      "metadata": {},
      "outputs": [],
      "source": [
        "# Import required libraries\nimport pandas as pd\nimport numpy as np\nimport plotly.express as px\nimport plotly.graph_objects as go"
      ]
    },
    {
      "cell_type": "markdown",
      "id": "a0f5139c-dbf8-4c4b-a63b-abc3e957c8dc",
      "metadata": {},
      "outputs": [],
      "source": [
        "## 1. Scatter Plot: \n",
        "A scatter plot shows the relationship between 2 variables on the x and y-axis. The data points here appear scattered when plotted on a two-dimensional plane. Using scatter plots, we can create exciting visualizations to express various relationships, such as:\n",
        "\n",
        "* Height vs weight of persons\n",
        "* Engine size vs automobile price\n",
        "* Exercise time vs Body Fat\n"
      ]
    },
    {
      "cell_type": "code",
      "id": "604c7bfa-df62-4aed-912e-5242640a0f4d",
      "metadata": {},
      "outputs": [],
      "source": [
        "##Example 1: Let us illustrate the income vs age of people in a scatter plot\n\nage_array=np.random.randint(25,55,60)\n# Define an array containing salesamount values \nincome_array=np.random.randint(300000,700000,3000000)"
      ]
    },
    {
      "cell_type": "code",
      "id": "a4da0e52-d445-46d6-ac54-62df63b43ca8",
      "metadata": {},
      "outputs": [],
      "source": [
        "##First we will create an empty figure using go.Figure()\nfig=go.Figure()\nfig"
      ]
    },
    {
      "cell_type": "code",
      "id": "21735846-ce49-4369-a326-80996e28d7a3",
      "metadata": {},
      "outputs": [],
      "source": [
        "#Next we will create a scatter plot by using the add_trace function and use the go.scatter() function within it\n# In go.Scatter we define the x-axis data,y-axis data and define the mode as markers with color of the marker as blue\nfig.add_trace(go.Scatter(x=age_array, y=income_array, mode='markers', marker=dict(color='blue')))"
      ]
    },
    {
      "cell_type": "markdown",
      "id": "ddb0885b-59ef-428b-8d50-9f9f2d732748",
      "metadata": {},
      "outputs": [],
      "source": [
        "**However in the previous output title, x-axis and y-axis labels are missing. Let us use the update_layout function to update the title and labels.**\n"
      ]
    },
    {
      "cell_type": "code",
      "id": "465440dc-e30b-431d-976c-906f87223ea6",
      "metadata": {},
      "outputs": [],
      "source": [
        "## Here we update these values under function attributes such as title,xaxis_title and yaxis_title\nfig.update_layout(title='Economic Survey', xaxis_title='Age', yaxis_title='Income')\n# Display the figure\nfig.show()"
      ]
    },
    {
      "cell_type": "markdown",
      "id": "d643ac41-f9e6-4c12-975c-c3a3eede7e56",
      "metadata": {},
      "outputs": [],
      "source": [
        "#### Inferences:\n",
        "     \n",
        "From the above plot we find that the Income of a person is not correlated with age. We find that as the age increases the income may or not decrease.\n"
      ]
    },
    {
      "cell_type": "markdown",
      "id": "5aeac150-3e4c-4dd4-a3e2-a8ae7e0e8fd9",
      "metadata": {},
      "outputs": [],
      "source": [
        "## 2. Line Plot: \n",
        "A line plot shows information that changes continuously with time. Here the data points are connected by straight lines. Line plots are also plotted on a two dimensional plane like scatter plots. Using line plots, we can create exciting visualizations to illustrate:\n",
        "\n",
        "  * Annual revenue growth\n",
        "  * Stock Market analysis over time\n",
        "  * Product Sales over time\n"
      ]
    },
    {
      "cell_type": "code",
      "id": "3273a68e-c33c-4fc2-9c2b-8200d5947e61",
      "metadata": {},
      "outputs": [],
      "source": [
        "##Example 2: Let us illustrate the sales of bicycles from Jan to August last year using a line chart\n# Define an array containing numberofbicyclessold  \nnumberofbicyclessold_array=[50,100,40,150,160,70,60,45]\n# Define an array containing months\nmonths_array=[\"Jan\",\"Feb\",\"Mar\",\"April\",\"May\",\"June\",\"July\",\"August\"]\n"
      ]
    },
    {
      "cell_type": "code",
      "id": "c84ec2b8-3123-45fc-8cf2-186a32476925",
      "metadata": {},
      "outputs": [],
      "source": [
        "##First we will create an empty figure using go.Figure()\nfig=go.Figure()"
      ]
    },
    {
      "cell_type": "code",
      "id": "5dc0b1e9-8789-4354-b641-28818d65ffd0",
      "metadata": {},
      "outputs": [],
      "source": [
        "#Next we will create a line plot by using the add_trace function and use the go.scatter() function within it\n# In go.Scatter we define the x-axis data,y-axis data and define the mode as lines with color of the marker as green\nfig.add_trace(go.Scatter(x=months_array, y=numberofbicyclessold_array, mode='lines', marker=dict(color='green')))"
      ]
    },
    {
      "cell_type": "code",
      "id": "0395afcc-7c17-4afd-8b63-ed5c31e8dbe9",
      "metadata": {},
      "outputs": [],
      "source": [
        "## Here we update these values under function attributes such as title,xaxis_title and yaxis_title\nfig.update_layout(title='Bicycle Sales', xaxis_title='Months', yaxis_title='Number of Bicycles Sold')\n# Display the figure\nfig.show()"
      ]
    },
    {
      "cell_type": "markdown",
      "id": "998de4e2-189d-4fc6-a86d-078b74f5d2af",
      "metadata": {},
      "outputs": [],
      "source": [
        "#### Inferences:\n",
        "     \n",
        "From the above plot we find that the sales is the highest in the month of May and then there is a decline in sales.\n"
      ]
    },
    {
      "cell_type": "markdown",
      "id": "0f780d27-4880-4cd3-ae42-de13fa7d67b1",
      "metadata": {},
      "outputs": [],
      "source": [
        "We will now use plotly express library to plot the other graphs\n"
      ]
    },
    {
      "cell_type": "markdown",
      "id": "63ff2532-59f1-4ddd-b686-f360b72ff67b",
      "metadata": {},
      "outputs": [],
      "source": [
        "  \n",
        "## 3.Bar Plot: \n",
        "A bar plot represents categorical data in rectangular bars. Each category is defined on one axis, and the value counts for this category are represented on another axis. Bar charts are generally used to compare values.We can use bar plots in visualizing:\n",
        "\n",
        " * Pizza delivery time in peak and non peak hours\n",
        " * Population comparison by gender\n",
        " * Number of views by movie name\n"
      ]
    },
    {
      "cell_type": "code",
      "id": "41925f4e-ea36-4fb8-bf8c-c1bc034f7ab8",
      "metadata": {},
      "outputs": [],
      "source": [
        "##Example 3: Let us illustrate the average pass percentage of classes from grade 6 to grade 10\n\n# Define an array containing scores of students \nscore_array=[80,90,56,88,95]\n# Define an array containing Grade names  \ngrade_array=['Grade 6','Grade 7','Grade 8','Grade 9','Grade 10']"
      ]
    },
    {
      "cell_type": "markdown",
      "id": "351d4af9-2575-4109-87dc-aca0c4e8211d",
      "metadata": {},
      "outputs": [],
      "source": [
        "**In plotly express we set the axis values and the title within the same function call `px.<graphtype>(x=<xaxis value source>,y=<y-axis value source>,title=<appropriate title as a string>)`.In the below code we use `px.bar( x=grade_array, y=score_array, title='Pass Percentage of Classes')`.**\n"
      ]
    },
    {
      "cell_type": "code",
      "id": "959217a4-e92d-44f7-a1d2-9d1b10a2859e",
      "metadata": {},
      "outputs": [],
      "source": [
        "# Use plotly express bar chart function px.bar.Provide input data, x and y axis variable, and title of the chart.\n# This will give average pass percentage per class\nfig = px.bar( x=grade_array, y=score_array, title='Pass Percentage of Classes') \nfig.show()"
      ]
    },
    {
      "cell_type": "markdown",
      "id": "26258e41-32d8-423b-8ea2-bae620b813ea",
      "metadata": {},
      "outputs": [],
      "source": [
        "#### Inferences:\n",
        "     \n",
        "From the above plot we find that Grade 8 has the lowest pass percentage and Grade 10 has the highest pass percentage \n"
      ]
    },
    {
      "cell_type": "markdown",
      "id": "f57ad822-1710-4a3d-a038-2d1a64916675",
      "metadata": {},
      "outputs": [],
      "source": [
        "\n",
        "## 4.Histogram: \n",
        " A histogram is used to represent continuous data in the form of bar. Each bar has discrete values in bar graphs, whereas in histograms, we have bars representing a range of values. Histograms show frequency distributions. We can use histograms to visualize:\n",
        " \n",
        " * Students marks distribution\n",
        " * Frequency of waiting time of customers in a Bank\n"
      ]
    },
    {
      "cell_type": "code",
      "id": "4ffd6541-a019-499b-8e53-b8b3ebda5982",
      "metadata": {},
      "outputs": [],
      "source": [
        "##Example 4: Let us illustrate the distribution of heights of 200 people using a histogram\n\nimport numpy as np\n#Here we will concentrate on heights which are 160 and the standard deviation is 11\nheights_array = np.random.normal(160, 11, 200)\n## Use plotly express histogram chart function px.histogram.Provide input data x to the histogram\nfig = px.histogram(x=heights_array,title=\"Distribution of Heights\")\nfig.show()"
      ]
    },
    {
      "cell_type": "markdown",
      "id": "5a064cfc-0fd2-401a-be1c-c93595f43183",
      "metadata": {},
      "outputs": [],
      "source": [
        "#### Inferences\n",
        "From this we can analyze that there are around \n",
        "2 people who are at the height of 130cm and 45 people at the height of 160 cm\n"
      ]
    },
    {
      "cell_type": "markdown",
      "id": "bb2ddf6e-954e-41eb-85bf-958630a10fb4",
      "metadata": {},
      "outputs": [],
      "source": [
        "## 5. Bubble Plot: \n",
        "A bubble plot is used to show the relationship between 3 or more variables. It is an extension of a scatter plot. Bubble plots are ideal for visualizing:\n",
        "\n",
        "  * Global Economic position of Industries\n",
        "  * Impact of viruses on Diseases\n"
      ]
    },
    {
      "cell_type": "code",
      "id": "e181d4ff-3fe5-4203-8616-5cd4001937a9",
      "metadata": {},
      "outputs": [],
      "source": [
        "##Example 4: Let us illustrate crime statistics of US cities with a bubble chart\n\n#Create a dictionary having city,numberofcrimes and year as 3 keys\ncrime_details = {\n    'City' : ['Chicago', 'Chicago', 'Austin', 'Austin','Seattle','Seattle'],\n    'Numberofcrimes' : [1000, 1200, 400, 700,350,1500],\n    'Year' : ['2007', '2008', '2007', '2008','2007','2008'],\n}\n  \n# create a Dataframe object with the dictionary\ndf = pd.DataFrame(crime_details)\n  \ndf"
      ]
    },
    {
      "cell_type": "code",
      "id": "389ffedf-27dc-469a-ab27-e4337e5746aa",
      "metadata": {},
      "outputs": [],
      "source": [
        "## Group the number of crimes by city and find the total number of crimes per city\nbub_data = df.groupby('City')['Numberofcrimes'].sum().reset_index()"
      ]
    },
    {
      "cell_type": "code",
      "id": "c04277d1-5b6f-4b2b-846d-f5318b2c00ba",
      "metadata": {},
      "outputs": [],
      "source": [
        "##Display the grouped dataframe\nbub_data"
      ]
    },
    {
      "cell_type": "code",
      "id": "ee7af208-3a52-4940-ab4b-62459c39314f",
      "metadata": {},
      "outputs": [],
      "source": [
        "## Bubble chart using px.scatter function with x ,y and size varibles defined.Title defined as Crime Statistics\nfig = px.scatter(bub_data, x=\"City\", y=\"Numberofcrimes\", size=\"Numberofcrimes\",\n                 hover_name=\"City\", title='Crime Statistics', size_max=60)\nfig.show()"
      ]
    },
    {
      "cell_type": "markdown",
      "id": "903b292d-55bd-465d-95d0-cd8ff39eb58c",
      "metadata": {},
      "outputs": [],
      "source": [
        "#### Inferences\n",
        "The size of the bubble in the bubble chart indicates that Chicago has the highest crime rate when compared with the other 2 cities.\n"
      ]
    },
    {
      "cell_type": "markdown",
      "id": "efc6e0cd-1139-48f2-897d-21423debdafb",
      "metadata": {},
      "outputs": [],
      "source": [
        " ## 6.Pie Plot: \n",
        " A pie plot is a circle chart mainly used to represent proportion of part of given data with respect to the whole data. Each slice represents a proportion and on total of the proportion becomes a whole. We can use bar plots in visualizing:\n",
        " \n",
        " * Sales turnover percentatge with respect to different products\n",
        " * Monthly expenditure of a Family\n"
      ]
    },
    {
      "cell_type": "code",
      "id": "9770f3c1-e4ee-4f5b-be09-a8bc602fe40c",
      "metadata": {},
      "outputs": [],
      "source": [
        "## Monthly expenditure of a family\n# Random Data\nexp_percent= [20, 50, 10,8,12]\nhouse_holdcategories = ['Grocery', 'Rent', 'School Fees','Transport','Savings']"
      ]
    },
    {
      "cell_type": "code",
      "id": "5bf612ca-8841-4779-9b73-4bf784b248d3",
      "metadata": {},
      "outputs": [],
      "source": [
        "# Use px.pie function to create the chart. Input dataset. \n# Values parameter will set values associated to the sector. 'exp_percent' feature is passed to it.\n# labels for the sector are passed to the `house hold categoris` parameter.\nfig = px.pie(values=exp_percent, names=house_holdcategories, title='Household Expenditure')\nfig.show()"
      ]
    },
    {
      "cell_type": "markdown",
      "id": "c40d05fd-7b1e-49d3-adb2-37d4b5a5951c",
      "metadata": {},
      "outputs": [],
      "source": [
        "#### Inferences\n",
        "From this pie chart we can find that the family expenditure is maximum for rent.\n"
      ]
    },
    {
      "cell_type": "markdown",
      "id": "85d83c30-e967-4588-82a3-0d454e113e77",
      "metadata": {},
      "outputs": [],
      "source": [
        "## 7.Sunburst Charts: \n",
        "Sunburst charts represent hierarchial data in the form of concentric circles. Here the innermost circle is the root node which defines the parent, and then the outer rings move down the hierarchy from the centre. They are also called radial charts.We can use them to plot\n",
        "\n",
        "* Worldwide mobile Sales where we can drill down as follows:   \n",
        "    * innermost circle represents total sales  \n",
        "    * first outer circle represents continentwise sales\n",
        "    * second outer circle represents countrywise sales within each continent\n",
        "    \n",
        "    \n",
        "* Disease outbreak hierarchy\n",
        "\n",
        "\n",
        "* Real Estate Industrial chain\n"
      ]
    },
    {
      "cell_type": "code",
      "id": "73793d87-ae9a-470c-a4d4-4a4282e2c739",
      "metadata": {},
      "outputs": [],
      "source": [
        "##Example 4: Let us illustrate plot the \n\n#Create a dictionary having a set of people represented by a character array and the parents of these characters represented in another\n## array and the values are the values associated to the vectors.\ndata = dict(\n    character=[\"Eve\", \"Cain\", \"Seth\", \"Enos\", \"Noam\", \"Abel\", \"Awan\", \"Enoch\", \"Azura\"],\n    parent=[\"\", \"Eve\", \"Eve\", \"Seth\", \"Seth\", \"Eve\", \"Eve\", \"Awan\", \"Eve\" ],\n    value=[10, 14, 12, 10, 2, 6, 6, 4, 4])\n\nfig = px.sunburst(\n    data,\n    names='character',\n    parents='parent',\n    values='value',\n    title=\"Family chart\"\n)\nfig.show()"
      ]
    },
    {
      "cell_type": "markdown",
      "id": "4ed66bb3-efeb-45cb-a682-98ba8d29e4b2",
      "metadata": {},
      "outputs": [],
      "source": [
        "#### Inferences\n",
        "\n",
        "It is found that here the innermost circle **Eve** represents the parent and the second outer circle represents his childrent **Cain**,**Seth** and so on.Further the outermost circle represents his grandchildren **Enoch** and **Enos**\n"
      ]
    },
    {
      "cell_type": "markdown",
      "id": "68fc6454-3b11-4d2e-bd4b-e9fe745624e0",
      "metadata": {},
      "outputs": [],
      "source": [
        "## II- Practice Exercises: Apply your Plotly Skills to an Airline Dataset\n",
        "\n",
        "The Reporting Carrier On-Time Performance Dataset contains information on approximately 200 million domestic US flights reported to the United States Bureau of Transportation Statistics. The dataset contains basic information about each flight (such as date, time, departure airport, arrival airport) and, if applicable, the amount of time the flight was delayed and information about the reason for the delay. This dataset can be used to predict the likelihood of a flight arriving on time.\n",
        "\n",
        "Preview data, dataset metadata, and data glossary [here.](https://dax-cdn.cdn.appdomain.cloud/dax-airline/1.0.1/data-preview/index.html)\n"
      ]
    },
    {
      "cell_type": "markdown",
      "id": "98d45f9c-410b-4368-a56f-049b809d0cdb",
      "metadata": {},
      "outputs": [],
      "source": [
        "# Read Data\n"
      ]
    },
    {
      "cell_type": "code",
      "id": "cb2388a4-23b2-479d-b7ca-5d212baf299b",
      "metadata": {},
      "outputs": [],
      "source": [
        "# Read the airline data into pandas dataframe\nfrom js import fetch\nimport io\n\nURL = 'https://cf-courses-data.s3.us.cloud-object-storage.appdomain.cloud/IBMDeveloperSkillsNetwork-DV0101EN-SkillsNetwork/Data%20Files/airline_data.csv'\nresp = await fetch(URL)\ntext = io.BytesIO((await resp.arrayBuffer()).to_py())\n\nairline_data =  pd.read_csv(text,\n                            encoding = \"ISO-8859-1\",\n                            dtype={'Div1Airport': str, 'Div1TailNum': str, \n                                   'Div2Airport': str, 'Div2TailNum': str})\n\nprint('Data downloaded and read into a dataframe!')"
      ]
    },
    {
      "cell_type": "code",
      "id": "0c67c255-2bce-4228-89de-540f38a0b0a5",
      "metadata": {},
      "outputs": [],
      "source": [
        "# Preview the first 5 lines of the loaded data \nairline_data.head()"
      ]
    },
    {
      "cell_type": "code",
      "id": "e711eb80-2497-4060-9f0d-cbb2eb20ccca",
      "metadata": {},
      "outputs": [],
      "source": [
        "# Shape of the data\nairline_data.shape"
      ]
    },
    {
      "cell_type": "code",
      "id": "80de919a-9de7-41bc-a919-83c1da02b935",
      "metadata": {},
      "outputs": [],
      "source": [
        "# Randomly sample 500 data points. Setting the random state to be 42 so that we get same result.\ndata = airline_data.sample(n=500, random_state=42)"
      ]
    },
    {
      "cell_type": "code",
      "id": "2b0492bf-ce2c-4809-8abe-74d31224216f",
      "metadata": {},
      "outputs": [],
      "source": [
        "# Get the shape of the trimmed data\ndata.shape"
      ]
    },
    {
      "cell_type": "markdown",
      "id": "a2f2d069-a7aa-4385-8faf-6dd9415b7190",
      "metadata": {},
      "outputs": [],
      "source": [
        "It would be interesting if we visually  capture details such as\n",
        "\n",
        "* Departure time changes with respect to airport distance.\n",
        "\n",
        "* Average Flight Delay time over the months\n",
        "\n",
        "* Comparing number of flights in each destination state\n",
        "\n",
        "* Number of  flights per reporting airline\n",
        "\n",
        "* Distrubution of arrival delay\n",
        "\n",
        "* Proportion of distance group by month (month indicated by numbers)\n",
        "\n",
        "* Hierarchical view in othe order of month and destination state holding value of number of flights\n"
      ]
    },
    {
      "cell_type": "markdown",
      "id": "e3942383-91cc-4c63-87e7-cf00daa106ca",
      "metadata": {},
      "outputs": [],
      "source": [
        "# plotly.graph_objects¶\n"
      ]
    },
    {
      "cell_type": "markdown",
      "id": "49bef36c-d147-4aa5-9fb5-6072d3323e5e",
      "metadata": {},
      "outputs": [],
      "source": [
        "## 1. Scatter Plot\n"
      ]
    },
    {
      "cell_type": "markdown",
      "id": "0f6a3605-31c4-4274-8ce7-978ff3080d47",
      "metadata": {},
      "outputs": [],
      "source": [
        "Let us use a scatter plot to represent departure time changes with respect to airport distance\n",
        "\n",
        "This plot should contain the following\n",
        "\n",
        "* Title as **Distance vs Departure Time**.\n",
        "* x-axis label should be **Distance**\n",
        "* y-axis label should be **DeptTime**\n",
        "* **Distance** column data from the flight delay dataset should be considered in x-axis\n",
        "* **DepTime** column data from the flight delay dataset should be considered in y-axis\n",
        "* Scatter plot markers should be of red color\n"
      ]
    },
    {
      "cell_type": "code",
      "id": "4656cb37-e5e8-4282-a85a-42cb8d118b2c",
      "metadata": {},
      "outputs": [],
      "source": [
        "## Write your code here"
      ]
    },
    {
      "cell_type": "markdown",
      "id": "c9761be7-be1c-4059-b7cb-c2808045ef9e",
      "metadata": {},
      "outputs": [],
      "source": [
        "Double-click **here** for hint.\n",
        "<!-- \n",
        "***Use go.scatter() method*** and mode as markers\n",
        "-->\n"
      ]
    },
    {
      "cell_type": "markdown",
      "id": "57ef3c3a-5f09-47af-99bc-bec90b165542",
      "metadata": {},
      "outputs": [],
      "source": [
        "Double-click **here** for the solution.\n",
        "\n",
        "<!-- The answer is below:\n",
        "\n",
        "    \n",
        "##First we will create an empty figure ising go.Figure()\n",
        "fig=go.Figure()\n",
        "#Next we will create a scatter plot by using the add_trace function and use the go.scatter() function within it\n",
        "# In go.Scatter we define the x-axis data,y-axis data and define the mode as markers with color of the marker as red\n",
        "fig.add_trace(go.Scatter(x=data['Distance'], y=data['DepTime'], mode='markers', marker=dict(color='red')))\n",
        "fig.update_layout(title='Distance vs Departure Time', xaxis_title='Distance', yaxis_title='DepTime')\n",
        "# Display the figure\n",
        "fig.show()\n",
        "-->\n"
      ]
    },
    {
      "cell_type": "markdown",
      "id": "f243c318-3909-4d18-8f6a-ad0665165c98",
      "metadata": {},
      "outputs": [],
      "source": [
        "#### Inferences\n",
        "\n",
        "It can be inferred that there are more flights round the clock for shorter distances. However, for longer distance there are limited flights through the day.\n"
      ]
    },
    {
      "cell_type": "markdown",
      "id": "63e23070-8961-4a22-8a08-351e6fba4f6d",
      "metadata": {},
      "outputs": [],
      "source": [
        "## 2. Line Plot\n"
      ]
    },
    {
      "cell_type": "markdown",
      "id": "dae2bba4-8444-4a49-9cf0-6cc433b8c29c",
      "metadata": {},
      "outputs": [],
      "source": [
        "Let us now use a line plot to extract average monthly arrival delay time and see how it changes over the year.\n",
        "\n",
        "  This plot should contain the following\n",
        "\n",
        "* Title as **Month vs Average Flight Delay Time**.\n",
        "* x-axis label should be **Month**\n",
        "* y-axis label should be **ArrDelay**\n",
        "* A new dataframe **line_data** should be created which consists of 2 columns average **arrival delay time per month** and **month** from the dataset\n",
        "* **Month** column data from the line_data dataframe should be considered in x-axis\n",
        "* **ArrDelay** column data from the ine_data dataframeshould be considered in y-axis\n",
        "* Plotted line in the line plot should be of green color\n"
      ]
    },
    {
      "cell_type": "code",
      "id": "6007f8c5-e12d-418f-921e-d776684d1007",
      "metadata": {},
      "outputs": [],
      "source": [
        "# Group the data by Month and compute average over arrival delay time.\nline_data = data.groupby('Month')['ArrDelay'].mean().reset_index()"
      ]
    },
    {
      "cell_type": "code",
      "id": "f334d778-22d9-4610-a847-66fccdb59547",
      "metadata": {},
      "outputs": [],
      "source": [
        "# Display the data\nline_data"
      ]
    },
    {
      "cell_type": "code",
      "id": "c8c2ddf8-aee8-4a39-93e7-c13727ae2d60",
      "metadata": {},
      "outputs": [],
      "source": [
        "## Write your code here"
      ]
    },
    {
      "cell_type": "markdown",
      "id": "cd6569b7-7454-437b-ab37-2f6676ae6d24",
      "metadata": {},
      "outputs": [],
      "source": [
        "Double-click **here** for hint.\n",
        "<!--\n",
        "*   Hint: Scatter and line plot vary by updating mode parameter.\n",
        "-->\n"
      ]
    },
    {
      "cell_type": "markdown",
      "id": "cb259a57-7cc4-49f5-8d57-717b3ca9aae9",
      "metadata": {},
      "outputs": [],
      "source": [
        "Double-click **here** for the solution.\n",
        "\n",
        "<!-- The answer is below:\n",
        "\n",
        "    \n",
        "##First we will create an empty figure ising go.Figure()\n",
        "fig=go.Figure()\n",
        "##Next we will create a line plot by using the add_trace function and use the go.scatter() function within it\n",
        "# In go.Scatter we define the x-axis data,y-axis data and define the mode as lines with color of the marker as green\n",
        "fig.add_trace(go.Scatter(x=line_data['Month'], y=line_data['ArrDelay'], mode='lines', marker=dict(color='green')))\n",
        "# Create line plot here\n",
        "## Here we update these values under function attributes such as title,xaxis_title and yaxis_title\n",
        "fig.update_layout(title='Month vs Average Flight Delay Time', xaxis_title='Month', yaxis_title='ArrDelay')\n",
        "fig.show()\n",
        "-->\n"
      ]
    },
    {
      "cell_type": "markdown",
      "id": "6b26986b-a296-420a-b880-b01a827edcd0",
      "metadata": {},
      "outputs": [],
      "source": [
        "#### Inferences\n",
        "\n",
        "It is found that in the month of June the average monthly delay time is the maximum\n"
      ]
    },
    {
      "cell_type": "markdown",
      "id": "92f783b1-e3fe-41c5-be96-9ab186e210f3",
      "metadata": {},
      "outputs": [],
      "source": [
        "# plotly.express¶\n"
      ]
    },
    {
      "cell_type": "markdown",
      "id": "57ebe890-da97-41cd-8f6f-f3e234dbb258",
      "metadata": {},
      "outputs": [],
      "source": [
        "## 3. Bar Chart\n"
      ]
    },
    {
      "cell_type": "markdown",
      "id": "efc0f1fd-88b2-48c7-af70-942787b9cf5e",
      "metadata": {},
      "outputs": [],
      "source": [
        "\n",
        "Let us use a bar chart to extract number of flights from a specific airline that goes to a destination\n",
        "\n",
        "This plot should contain the following\n",
        "\n",
        "* Title as **Total number of flights to the destination state split by reporting air**.\n",
        "* x-axis label should be **DestState**\n",
        "* y-axis label should be **Flights**\n",
        "* Create a new dataframe called **bar_data**  which contains 2 columns **DestState** and **Flights**.Here **flights** indicate total number of flights in each combination.\n"
      ]
    },
    {
      "cell_type": "code",
      "id": "6dc80225-e88f-421d-aca2-d014d7b599ad",
      "metadata": {},
      "outputs": [],
      "source": [
        "# Group the data by destination state and reporting airline. Compute total number of flights in each combination\nbar_data = data.groupby('DestState')['Flights'].sum().reset_index()"
      ]
    },
    {
      "cell_type": "code",
      "id": "e55f4055-50d2-4682-8bdd-247656a5c833",
      "metadata": {},
      "outputs": [],
      "source": [
        "# Display the data\nbar_data"
      ]
    },
    {
      "cell_type": "code",
      "id": "533f39b1-81f5-4f4d-9b62-b92e2cc71984",
      "metadata": {},
      "outputs": [],
      "source": [
        "## Write your code here"
      ]
    },
    {
      "cell_type": "markdown",
      "id": "11c60038-4309-4892-a9be-bfa73414ce3a",
      "metadata": {},
      "outputs": [],
      "source": [
        "Double-click **here** for hint.\n",
        "<!--\n",
        "***Use the px.bar() function***\n",
        "-->\n"
      ]
    },
    {
      "cell_type": "markdown",
      "id": "8fe073a9-e8f1-45c0-960b-616ce8191333",
      "metadata": {},
      "outputs": [],
      "source": [
        "Double-click **here** for the solution.\n",
        "\n",
        "<!-- The answer is below:\n",
        "\n",
        "    \n",
        "# Use plotly express bar chart function px.bar. Provide input data, x and y axis variable, and title of the chart.\n",
        "# This will give total number of flights to the destination state.\n",
        "fig = px.bar(bar_data, x=\"DestState\", y=\"Flights\", title='Total number of flights to the destination state split by reporting airline') \n",
        "fig.show()\n",
        "-->\n"
      ]
    },
    {
      "cell_type": "markdown",
      "id": "ba2dce43-dddb-4168-b3cf-622ee74714dc",
      "metadata": {},
      "outputs": [],
      "source": [
        "#### Inferences\n",
        "\n",
        "It is found that maximum flights are to destination state **CA** which is around 68 and there is only 1 flight to destination state **VT**\n"
      ]
    },
    {
      "cell_type": "markdown",
      "id": "3422bc8f-567d-4cab-8cdc-839a1d5cf606",
      "metadata": {},
      "outputs": [],
      "source": [
        "## 4. Histogram\n"
      ]
    },
    {
      "cell_type": "markdown",
      "id": "f885f088-1799-44c8-aa3a-3339938d7157",
      "metadata": {},
      "outputs": [],
      "source": [
        "\n",
        "Let us represent the distribution of arrival delay using a histogram\n",
        "\n",
        "This plot should contain the following\n",
        "\n",
        "* Title as **Total number of flights to the destination state split by reporting air**.\n",
        "* x-axis label should be **ArrayDelay**\n",
        "* y-axis will show the count of arrival delay\n"
      ]
    },
    {
      "cell_type": "code",
      "id": "78624dc4-defa-48e5-a702-c4e5d9a6b9f8",
      "metadata": {},
      "outputs": [],
      "source": [
        "# Set missing values to 0\ndata['ArrDelay'] = data['ArrDelay'].fillna(0)"
      ]
    },
    {
      "cell_type": "code",
      "id": "6ba6b017-e421-418c-8a6b-7b67a69de8f5",
      "metadata": {},
      "outputs": [],
      "source": [
        "## Write your code here"
      ]
    },
    {
      "cell_type": "markdown",
      "id": "4e0470ea-9662-40bf-9e58-afdb49bc5079",
      "metadata": {},
      "outputs": [],
      "source": [
        "Double-click **here** for hint.\n",
        "<!--\n",
        "***Use the px.histogram() function***\n",
        "-->\n"
      ]
    },
    {
      "cell_type": "markdown",
      "id": "f48c7eb2-702b-47a0-a59f-f0a95156427a",
      "metadata": {},
      "outputs": [],
      "source": [
        "Double-click **here** for the solution.\n",
        "\n",
        "<!-- The answer is below:\n",
        "## Use plotly express histogram chart function px.histogram.Provide input data x to the histogram\n",
        "fig = px.histogram(data, x=\"ArrDelay\",title=\"Total number of flights to the destination state split by reporting air.\")\n",
        "fig.show()\n",
        "    \n",
        "\n",
        "-->\n"
      ]
    },
    {
      "cell_type": "markdown",
      "id": "12011583-1e5a-4d46-bbf0-64b7a56e27a1",
      "metadata": {},
      "outputs": [],
      "source": [
        "#### Inferences\n",
        "\n",
        "It is found that there is only max of 5 flights with an arrival delay of 50-54 minutes and around 17 flights with an arrival delay of 20-25 minutes\n"
      ]
    },
    {
      "cell_type": "markdown",
      "id": "ae3bd563-18eb-486a-a356-09b55eb35ae7",
      "metadata": {},
      "outputs": [],
      "source": [
        "## 5. Bubble Chart\n"
      ]
    },
    {
      "cell_type": "markdown",
      "id": "ccc630e1-7f0d-4596-b217-d3cd5f97f5a7",
      "metadata": {},
      "outputs": [],
      "source": [
        "Let  use a bubble plot to represent number of flights as per reporting airline\n",
        "\n",
        "This plot should contain the following\n",
        "\n",
        "* Title as **Reporting Airline vs Number of Flights**.\n",
        "* x-axis label should be **Reporting_Airline**\n",
        "* y-axis label should be **Flights**\n",
        "* size of the bubble should be **Flights** indicating number of flights\n",
        "* Name of the hover tooltip to `reporting_airline` using `hover_name` parameter.\n"
      ]
    },
    {
      "cell_type": "code",
      "id": "85ba145b-157a-4047-beb6-bab63a7c2b0c",
      "metadata": {},
      "outputs": [],
      "source": [
        "# Group the data by reporting airline and get number of flights\nbub_data = data.groupby('Reporting_Airline')['Flights'].sum().reset_index()"
      ]
    },
    {
      "cell_type": "code",
      "id": "820e9cef-14b0-4660-b3ed-9e2cc13f68b8",
      "metadata": {},
      "outputs": [],
      "source": [
        "bub_data"
      ]
    },
    {
      "cell_type": "code",
      "id": "7839fc69-6f79-4371-a7bd-f091a712a3fe",
      "metadata": {},
      "outputs": [],
      "source": [
        "## Write your code here\n"
      ]
    },
    {
      "cell_type": "markdown",
      "id": "69da7e26-2647-4025-858b-6556efa23825",
      "metadata": {},
      "outputs": [],
      "source": [
        "Double-click **here** for hint.\n",
        "<!--\n",
        "***Use the px.scatter() function and define the size attribute values apart from x and y attribute values***\n",
        "-->\n"
      ]
    },
    {
      "cell_type": "markdown",
      "id": "d384a28c-2285-4b50-8be5-48e5f0388ac6",
      "metadata": {},
      "outputs": [],
      "source": [
        "Double-click **here** for the solution.\n",
        "\n",
        "<!-- The answer is below:\n",
        "## Bubble chart using px.scatter function with x ,y and size variables defined.Title defined as Reporting Airline vs Number of Flights\n",
        "fig = px.scatter(bub_data, x=\"Reporting_Airline\", y=\"Flights\", size=\"Flights\",\n",
        "                 hover_name=\"Reporting_Airline\", title='Reporting Airline vs Number of Flights', size_max=60)\n",
        "fig.show()\n",
        "    \n",
        "\n",
        "-->\n"
      ]
    },
    {
      "cell_type": "markdown",
      "id": "313c251c-b703-4bd2-800b-1909aeddf9e1",
      "metadata": {},
      "outputs": [],
      "source": [
        "#### Inferences\n",
        "\n",
        "It is found that the reporting airline **WN** has the highest number of flights which is around 86\n"
      ]
    },
    {
      "cell_type": "markdown",
      "id": "a42a7b57-eb54-4da8-a98d-fa19d71de71d",
      "metadata": {},
      "outputs": [],
      "source": [
        "## 6. Pie Chart\n"
      ]
    },
    {
      "cell_type": "markdown",
      "id": "69cfb91d-0b1e-42dd-9fc5-0d7d69dba83d",
      "metadata": {},
      "outputs": [],
      "source": [
        "Let us represent the proportion of distance group by month (month indicated by numbers)\n",
        "\n",
        "This plot should contain the following\n",
        "\n",
        "* Title as **Distance group proportion by month**.\n",
        "* values should be **Month**\n",
        "* names should be **DistanceGroup**\n"
      ]
    },
    {
      "cell_type": "code",
      "id": "a495401d-baee-46be-b0db-b120f70fc876",
      "metadata": {},
      "outputs": [],
      "source": [
        "## Write your code here"
      ]
    },
    {
      "cell_type": "markdown",
      "id": "05a302a4-add2-423a-82ba-63c0915f58af",
      "metadata": {},
      "outputs": [],
      "source": [
        "Double-click **here** for hint.\n",
        "<!--\n",
        "***Use the px.pie() function***\n",
        "-->\n"
      ]
    },
    {
      "cell_type": "markdown",
      "id": "f917f8d2-1d3b-46b2-82c3-9a90822f2abd",
      "metadata": {},
      "outputs": [],
      "source": [
        "Double-click **here** for the solution.\n",
        "\n",
        "<!-- The answer is below:\n",
        "# Use px.pie function to create the chart. Input dataset. \n",
        "# Values parameter will set values associated to the sector. 'Month' feature is passed to it.\n",
        "# labels for the sector are passed to the `names` parameter.\n",
        "fig = px.pie(data, values='Month', names='DistanceGroup', title='Distance group proportion by month')\n",
        "fig.show()\n",
        "    \n",
        "\n",
        "-->\n"
      ]
    },
    {
      "cell_type": "markdown",
      "id": "69ec112a-d758-4565-a405-1e2df22a8f25",
      "metadata": {},
      "outputs": [],
      "source": [
        "#### Inferences\n",
        "\n",
        "It is found that February month has the highest distance group proportion\n"
      ]
    },
    {
      "cell_type": "markdown",
      "id": "25d03825-d625-4715-81d0-ca3f6bf04917",
      "metadata": {},
      "outputs": [],
      "source": [
        "## 7. SunBurst Charts\n"
      ]
    },
    {
      "cell_type": "markdown",
      "id": "e08dd007-fe91-4cc8-86f0-1f8ca8274ebc",
      "metadata": {},
      "outputs": [],
      "source": [
        "Let us represent the hierarchical view in othe order of month and destination state holding value of number of flights\n",
        "\n",
        "This plot should contain the following\n",
        "\n",
        "*  Define hierarchy of sectors from root to leaves in `path` parameter. Here, we go from `Month` to `DestStateName` feature.\n",
        "*   Set sector values in `values` parameter. Here, we can pass in `Flights` feature.\n",
        "*   Show the figure.\n",
        "*   Title as **Flight Distribution Hierarchy**\n"
      ]
    },
    {
      "cell_type": "code",
      "id": "9fa6d3d1-5710-476b-bca4-9f4f803dc146",
      "metadata": {},
      "outputs": [],
      "source": [
        "## Write your code here"
      ]
    },
    {
      "cell_type": "markdown",
      "id": "ef5ce7bb-fa68-43b6-85a8-c2af7443cad8",
      "metadata": {},
      "outputs": [],
      "source": [
        "Double-click **here** for hint.\n",
        "<!--\n",
        "***Use the px.sunburst() function***\n",
        "-->\n"
      ]
    },
    {
      "cell_type": "markdown",
      "id": "66957b02-8892-45d3-945f-db3119f6d969",
      "metadata": {},
      "outputs": [],
      "source": [
        "Double-click **here** for the solution.\n",
        "\n",
        "<!-- The answer is below:\n",
        "## Define path as Month and DestStateName and values as Flights.\n",
        "fig = px.sunburst(data, path=['Month', 'DestStateName'], values='Flights',title='Flight Distribution Hierarchy')\n",
        "fig.show()\n",
        "    \n",
        "\n",
        "-->\n"
      ]
    },
    {
      "cell_type": "markdown",
      "id": "63ba737b-8a3b-43f9-a5e3-c3888aa722d5",
      "metadata": {},
      "outputs": [],
      "source": [
        "#### Inferences\n",
        "\n",
        "Here the  **Month** numbers present in the innermost concentric circle is the root and for each month we will check the **number of flights** for the different **destination states** under it.\n"
      ]
    },
    {
      "cell_type": "markdown",
      "id": "7a8c2bb9-f95b-4402-ba81-7f59bec84883",
      "metadata": {},
      "outputs": [],
      "source": [
        "## Summary\n",
        "\n",
        "Congratulations for completing your lab.\n",
        "\n",
        "In this lab, you have learnt how to use `plotly.graph_objects` and `plotly.express` for creating plots and charts.\n"
      ]
    },
    {
      "cell_type": "markdown",
      "id": "81237edd-b9f7-48e7-83b6-71ab0bb5847f",
      "metadata": {},
      "outputs": [],
      "source": [
        "## Author(s)\n",
        "[Saishruthi Swaminathan](https://www.linkedin.com/in/saishruthi-swaminathan/?utm_medium=Exinfluencer&utm_source=Exinfluencer&utm_content=000026UJ&utm_term=10006555&utm_id=NA-SkillsNetwork-Channel-SkillsNetworkCoursesIBMDeveloperSkillsNetworkDV0101ENSkillsNetwork970-2022-01-01)\n",
        "\n",
        "Lakshmi Holla\n"
      ]
    },
    {
      "cell_type": "markdown",
      "id": "1e3a2c66-230e-41c1-ac90-bbce92102b4d",
      "metadata": {},
      "outputs": [],
      "source": [
        "## Other Contributor(s)\n",
        "\n",
        "Lavanya T S\n"
      ]
    },
    {
      "cell_type": "markdown",
      "id": "b1874aaa-d847-4042-8157-b2d8db194292",
      "metadata": {},
      "outputs": [],
      "source": [
        "## Changelog\n",
        "\n",
        "| Date       | Version | Changed by | Change Description                   |\n",
        "| ---------- | ------- | ---------- | ------------------------------------ |\n",
        "| 12-18-2020 | 1.0     | Nayef      | Added dataset link and upload to Git |\n",
        "| 07-02-2023 | 1.1     | Lakshmi Holla     | Updated lab |\n"
      ]
    },
    {
      "cell_type": "markdown",
      "id": "f3b56c38-cbf6-4d9c-aeab-2c160c86c1ad",
      "metadata": {},
      "outputs": [],
      "source": [
        "## <h3 align=\"center\"> © IBM Corporation 2023. All rights reserved. <h3/>\n"
      ]
    }
  ],
  "metadata": {
    "language_info": {
      "codemirror_mode": {
        "name": "python",
        "version": 3
      },
      "file_extension": ".py",
      "mimetype": "text/x-python",
      "name": "python",
      "nbconvert_exporter": "python",
      "pygments_lexer": "ipython3",
      "version": "3.8"
    },
    "kernelspec": {
      "name": "python",
      "display_name": "Pyolite",
      "language": "python"
    }
  },
  "nbformat": 4,
  "nbformat_minor": 4
}