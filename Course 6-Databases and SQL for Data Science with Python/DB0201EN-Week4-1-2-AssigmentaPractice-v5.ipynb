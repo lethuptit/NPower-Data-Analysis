{
 "cells": [
  {
   "cell_type": "markdown",
   "metadata": {},
   "source": [
    "<center>\n",
    "    <img src=\"https://cf-courses-data.s3.us.cloud-object-storage.appdomain.cloud/IBMDeveloperSkillsNetwork-DB0201EN-SkillsNetwork/labs/FinalModule_Coursera_V5/images/SN_web_lightmode.png\" width=\"300\" alt=\"cognitiveclass.ai logo\">\n",
    "</center>\n",
    "\n",
    "# Working with a real world data-set using SQL and Python\n",
    "\n",
    "Estaimted time needed: **30** minutes\n",
    "\n",
    "## Objectives\n",
    "\n",
    "After complting this lab you will be able to:\n",
    "\n",
    "-   Understand the dataset for Chicago Public School level performance\n",
    "-   Store the dataset in an Db2 database on IBM Cloud instance\n",
    "-   Retrieve metadata about tables and columns and query data from mixed case columns\n",
    "-   Solve example problems to practice your SQL skills including using built-in database functions\n"
   ]
  },
  {
   "cell_type": "markdown",
   "metadata": {},
   "source": [
    "## Chicago Public Schools - Progress Report Cards (2011-2012)\n",
    "\n",
    "The city of Chicago released a dataset showing all school level performance data used to create School Report Cards for the 2011-2012 school year. The dataset is available from the Chicago Data Portal: [https://data.cityofchicago.org/Education/Chicago-Public-Schools-Progress-Report-Cards-2011-/9xs2-f89t](https://data.cityofchicago.org/Education/Chicago-Public-Schools-Progress-Report-Cards-2011-/9xs2-f89t?utm_medium=Exinfluencer&utm_source=Exinfluencer&utm_content=000026UJ&utm_term=10006555&utm_id=NA-SkillsNetwork-Channel-SkillsNetworkCoursesIBMDeveloperSkillsNetworkDB0201ENSkillsNetwork22-2022-01-01&cm_mmc=Email_Newsletter-_-Developer_Ed%2BTech-_-WW_WW-_-SkillsNetwork-Courses-IBMDeveloperSkillsNetwork-DB0201EN-SkillsNetwork-20127838&cm_mmca1=000026UJ&cm_mmca2=10006555&cm_mmca3=M12345678&cvosrc=email.Newsletter.M12345678&cvo_campaign=000026UJ)\n",
    "\n",
    "This dataset includes a large number of metrics. Start by familiarizing yourself with the types of metrics in the database: [https://data.cityofchicago.org/api/assets/AAD41A13-BE8A-4E67-B1F5-86E711E09D5F?download=true](https://data.cityofchicago.org/api/assets/AAD41A13-BE8A-4E67-B1F5-86E711E09D5F?utm_medium=Exinfluencer&utm_source=Exinfluencer&utm_content=000026UJ&utm_term=10006555&utm_id=NA-SkillsNetwork-Channel-SkillsNetworkCoursesIBMDeveloperSkillsNetworkDB0201ENSkillsNetwork22-2022-01-01&download=true&cm_mmc=Email_Newsletter-_-Developer_Ed%2BTech-_-WW_WW-_-SkillsNetwork-Courses-IBMDeveloperSkillsNetwork-DB0201EN-SkillsNetwork-20127838&cm_mmca1=000026UJ&cm_mmca2=10006555&cm_mmca3=M12345678&cvosrc=email.Newsletter.M12345678&cvo_campaign=000026UJ)\n",
    "\n",
    "**NOTE**: \n",
    "\n",
    "Do not download the dataset directly from City of Chicago portal. Instead download a static copy which is a more database friendly version from this <a href=\"https://cf-courses-data.s3.us.cloud-object-storage.appdomain.cloud/IBMDeveloperSkillsNetwork-DB0201EN-SkillsNetwork/labs/FinalModule_Coursera_V5/data/ChicagoPublicSchools.csv\">link</a>.\n",
    "\n",
    "**NOTE**:\n",
    "\n",
    "For the learners who are encountering issues with loading from .csv in DB2 on Firefox, you can download the .txt files and load the data with those: <a href=\"https://cf-courses-data.s3.us.cloud-object-storage.appdomain.cloud/IBMDeveloperSkillsNetwork-DB0201EN-SkillsNetwork/labs/FinalModule_Coursera_V5/data/ChicagoPublicSchools.txt\">link</a>.\n",
    "\n",
    "Now review some of its contents.\n"
   ]
  },
  {
   "cell_type": "markdown",
   "metadata": {},
   "source": [
    "### Store the dataset in a Table\n",
    "\n",
    "In many cases the dataset to be analyzed is available as a .CSV (comma separated values) file, perhaps on the internet. To analyze the data using SQL, it first needs to be stored in the database.\n",
    "\n",
    "While it is easier to read the dataset into a Pandas dataframe and then PERSIST it into the database as we saw in the previous lab, it results in mapping to default datatypes which may not be optimal for SQL querying. For example a long textual field may map to a CLOB instead of a VARCHAR. \n",
    "\n",
    "Therefore, **it is highly recommended to manually load the table using the database console LOAD tool, as indicated in Week 2 Lab 1 Part II**. The only difference with that lab is that in Step 5 of the instructions you will need to click on create \"(+) New Table\" and specify the name of the table you want to create and then click \"Next\". \n",
    "\n",
    "##### Now open the Db2 console, open the LOAD tool, Select / Drag the .CSV file for the CHICAGO PUBLIC SCHOOLS dataset and load the dataset into a new table called **SCHOOLS**.\n",
    "\n",
    "<a href=\"https://cognitiveclass.ai/?utm_medium=Exinfluencer&utm_source=Exinfluencer&utm_content=000026UJ&utm_term=10006555&utm_id=NA-SkillsNetwork-Channel-SkillsNetworkCoursesIBMDeveloperSkillsNetworkDB0201ENSkillsNetwork22-2022-01-01\"><img src=\"https://ibm.box.com/shared/static/uc4xjh1uxcc78ks1i18v668simioz4es.jpg\"></a>\n"
   ]
  },
  {
   "cell_type": "markdown",
   "metadata": {},
   "source": [
    "### Connect to the database\n",
    "\n",
    "Let us now load the ipython-sql  extension and establish a connection with the database\n",
    "\n",
    "The following modules are pre-installed in the Skills Network Labs environment. However if you run this notebook commands in a different Jupyter environment (e.g. Watson Studio or Ananconda) you may need to install these libraries by removing the `#` sign before `!pip` in the code cell below.\n"
   ]
  },
  {
   "cell_type": "code",
   "execution_count": null,
   "metadata": {},
   "outputs": [],
   "source": [
    "# These libraries are pre-installed in SN Labs. If running in another environment please uncomment lines below to install them:\n",
    "# !pip install --force-reinstall ibm_db==3.1.0 ibm_db_sa==0.3.3\n",
    "# Ensure we don't load_ext with sqlalchemy>=1.4 (incompadible)\n",
    "# !pip uninstall sqlalchemy==1.4 -y && pip install sqlalchemy==1.3.24\n",
    "# !pip install ipython-sql"
   ]
  },
  {
   "cell_type": "code",
   "execution_count": null,
   "metadata": {},
   "outputs": [],
   "source": [
    "%load_ext sql"
   ]
  },
  {
   "cell_type": "code",
   "execution_count": null,
   "metadata": {},
   "outputs": [
    {
     "data": {
      "text/plain": [
       "'Connected: bnz94289@bludb'"
      ]
     },
     "execution_count": 2,
     "metadata": {},
     "output_type": "execute_result"
    }
   ],
   "source": [
    "# Enter the connection string for your Db2 on Cloud database instance below\n",
    "# %sql ibm_db_sa://my-username:my-password@my-hostname:my-port/my-db-name?security=SSL\n",
    "%sql ibm_db_sa://bnz94289:yZHCGUKRv6l8aZsD@2f3279a5-73d1-4859-88f0-a6c3e6b4b907.c3n41cmd0nqnrk39u98g.databases.appdomain.cloud:30756/bludb?security=SSL"
   ]
  },
  {
   "cell_type": "markdown",
   "metadata": {},
   "source": [
    "### Query the database system catalog to retrieve table metadata\n",
    "\n",
    "##### You can verify that the table creation was successful by retrieving the list of all tables in your schema and checking whether the SCHOOLS table was created\n"
   ]
  },
  {
   "cell_type": "code",
   "execution_count": 5,
   "metadata": {},
   "outputs": [
    {
     "name": "stdout",
     "output_type": "stream",
     "text": [
      " * ibm_db_sa://bnz94289:***@2f3279a5-73d1-4859-88f0-a6c3e6b4b907.c3n41cmd0nqnrk39u98g.databases.appdomain.cloud:30756/bludb\n",
      "Done.\n"
     ]
    },
    {
     "data": {
      "text/html": [
       "<table>\n",
       "    <thead>\n",
       "        <tr>\n",
       "            <th>1</th>\n",
       "        </tr>\n",
       "    </thead>\n",
       "    <tbody>\n",
       "        <tr>\n",
       "            <td>533</td>\n",
       "        </tr>\n",
       "    </tbody>\n",
       "</table>"
      ],
      "text/plain": [
       "[(533,)]"
      ]
     },
     "execution_count": 5,
     "metadata": {},
     "output_type": "execute_result"
    }
   ],
   "source": [
    "#Problem 1: Find the total number of crimes recorded in the CRIME table.\n",
    "%sql select count(*) from CHICAGO_CRIME_DATA"
   ]
  },
  {
   "cell_type": "code",
   "execution_count": 6,
   "metadata": {},
   "outputs": [
    {
     "name": "stdout",
     "output_type": "stream",
     "text": [
      " * ibm_db_sa://bnz94289:***@2f3279a5-73d1-4859-88f0-a6c3e6b4b907.c3n41cmd0nqnrk39u98g.databases.appdomain.cloud:30756/bludb\n",
      "Done.\n"
     ]
    },
    {
     "data": {
      "text/html": [
       "<table>\n",
       "    <thead>\n",
       "        <tr>\n",
       "            <th>community_area_name</th>\n",
       "            <th>per_capita_income</th>\n",
       "        </tr>\n",
       "    </thead>\n",
       "    <tbody>\n",
       "        <tr>\n",
       "            <td>West Garfield Park</td>\n",
       "            <td>10934</td>\n",
       "        </tr>\n",
       "        <tr>\n",
       "            <td>South Lawndale</td>\n",
       "            <td>10402</td>\n",
       "        </tr>\n",
       "        <tr>\n",
       "            <td>Fuller Park</td>\n",
       "            <td>10432</td>\n",
       "        </tr>\n",
       "        <tr>\n",
       "            <td>Riverdale</td>\n",
       "            <td>8201</td>\n",
       "        </tr>\n",
       "    </tbody>\n",
       "</table>"
      ],
      "text/plain": [
       "[('West Garfield Park', 10934),\n",
       " ('South Lawndale', 10402),\n",
       " ('Fuller Park', 10432),\n",
       " ('Riverdale', 8201)]"
      ]
     },
     "execution_count": 6,
     "metadata": {},
     "output_type": "execute_result"
    }
   ],
   "source": [
    "#Problem 2: List community areas with per capita income less than 11000.\n",
    "%sql select COMMUNITY_AREA_NAME, PER_CAPITA_INCOME \\\n",
    "from census_data where PER_CAPITA_INCOME < 11000;"
   ]
  },
  {
   "cell_type": "markdown",
   "metadata": {},
   "source": [
    "Double-click **here** for a hint\n",
    "\n",
    "<!--\n",
    "In Db2 the system catalog table called SYSCAT.TABLES contains the table metadata\n",
    "-->\n"
   ]
  },
  {
   "cell_type": "markdown",
   "metadata": {},
   "source": [
    "Double-click **here** for the solution.\n",
    "\n",
    "<!-- Solution:\n",
    "\n",
    "%sql select TABSCHEMA, TABNAME, CREATE_TIME from SYSCAT.TABLES where TABSCHEMA='YOUR-DB2-USERNAME'\n",
    "\n",
    "or, you can retrieve list of all tables where the schema name is not one of the system created ones:\n",
    "\n",
    "%sql select TABSCHEMA, TABNAME, CREATE_TIME from SYSCAT.TABLES \\\n",
    "      where TABSCHEMA not in ('SYSIBM', 'SYSCAT', 'SYSSTAT', 'SYSIBMADM', 'SYSTOOLS', 'SYSPUBLIC')\n",
    "      \n",
    "or, just query for a specifc table that you want to verify exists in the database\n",
    "%sql select * from SYSCAT.TABLES where TABNAME = 'SCHOOLS'\n",
    "\n",
    "-->\n"
   ]
  },
  {
   "cell_type": "markdown",
   "metadata": {},
   "source": [
    "### Query the database system catalog to retrieve column metadata\n",
    "\n",
    "##### The SCHOOLS table contains a large number of columns. How many columns does this table have?\n"
   ]
  },
  {
   "cell_type": "code",
   "execution_count": 10,
   "metadata": {},
   "outputs": [
    {
     "name": "stdout",
     "output_type": "stream",
     "text": [
      " * ibm_db_sa://bnz94289:***@2f3279a5-73d1-4859-88f0-a6c3e6b4b907.c3n41cmd0nqnrk39u98g.databases.appdomain.cloud:30756/bludb\n",
      "Done.\n"
     ]
    },
    {
     "data": {
      "text/html": [
       "<table>\n",
       "    <thead>\n",
       "        <tr>\n",
       "            <th>case_number</th>\n",
       "            <th>description</th>\n",
       "        </tr>\n",
       "    </thead>\n",
       "    <tbody>\n",
       "        <tr>\n",
       "            <td>HL266884</td>\n",
       "            <td>SELL/GIVE/DEL LIQUOR TO MINOR</td>\n",
       "        </tr>\n",
       "        <tr>\n",
       "            <td>HK238408</td>\n",
       "            <td>ILLEGAL CONSUMPTION BY MINOR</td>\n",
       "        </tr>\n",
       "    </tbody>\n",
       "</table>"
      ],
      "text/plain": [
       "[('HL266884', 'SELL/GIVE/DEL LIQUOR TO MINOR'),\n",
       " ('HK238408', 'ILLEGAL CONSUMPTION BY MINOR')]"
      ]
     },
     "execution_count": 10,
     "metadata": {},
     "output_type": "execute_result"
    }
   ],
   "source": [
    "# Problem 3: List all case numbers for crimes involving minors?\n",
    "%sql select CASE_NUMBER, DESCRIPTION from CHICAGO_CRIME_DATA where DESCRIPTION like '%MINOR%' "
   ]
  },
  {
   "cell_type": "markdown",
   "metadata": {},
   "source": [
    "Double-click **here** for a hint\n",
    "\n",
    "<!--\n",
    "In Db2 the system catalog table called SYSCAT.COLUMNS contains the column metadata\n",
    "-->\n"
   ]
  },
  {
   "cell_type": "markdown",
   "metadata": {},
   "source": [
    "Double-click **here** for the solution.\n",
    "\n",
    "<!-- Solution:\n",
    "\n",
    "%sql select count(*) from SYSCAT.COLUMNS where TABNAME = 'SCHOOLS'\n",
    "\n",
    "-->\n"
   ]
  },
  {
   "cell_type": "markdown",
   "metadata": {},
   "source": [
    "Now retrieve the the list of columns in SCHOOLS table and their column type (datatype) and length.\n"
   ]
  },
  {
   "cell_type": "code",
   "execution_count": 15,
   "metadata": {
    "tags": []
   },
   "outputs": [
    {
     "name": "stdout",
     "output_type": "stream",
     "text": [
      " * ibm_db_sa://bnz94289:***@2f3279a5-73d1-4859-88f0-a6c3e6b4b907.c3n41cmd0nqnrk39u98g.databases.appdomain.cloud:30756/bludb\n",
      "Done.\n"
     ]
    },
    {
     "data": {
      "text/html": [
       "<table>\n",
       "    <thead>\n",
       "        <tr>\n",
       "            <th>id</th>\n",
       "            <th>case_number</th>\n",
       "            <th>DATE</th>\n",
       "            <th>block</th>\n",
       "            <th>iucr</th>\n",
       "            <th>primary_type</th>\n",
       "            <th>description</th>\n",
       "            <th>location_description</th>\n",
       "            <th>arrest</th>\n",
       "            <th>domestic</th>\n",
       "            <th>beat</th>\n",
       "            <th>district</th>\n",
       "            <th>ward</th>\n",
       "            <th>community_area_number</th>\n",
       "            <th>fbicode</th>\n",
       "            <th>x_coordinate</th>\n",
       "            <th>y_coordinate</th>\n",
       "            <th>YEAR</th>\n",
       "            <th>latitude</th>\n",
       "            <th>longitude</th>\n",
       "            <th>location</th>\n",
       "        </tr>\n",
       "    </thead>\n",
       "    <tbody>\n",
       "        <tr>\n",
       "            <td>5276766</td>\n",
       "            <td>HN144152</td>\n",
       "            <td>2007-01-26</td>\n",
       "            <td>050XX W VAN BUREN ST</td>\n",
       "            <td>1792</td>\n",
       "            <td>KIDNAPPING</td>\n",
       "            <td>CHILD ABDUCTION/STRANGER</td>\n",
       "            <td>STREET</td>\n",
       "            <td>FALSE</td>\n",
       "            <td>FALSE</td>\n",
       "            <td>1533</td>\n",
       "            <td>15</td>\n",
       "            <td>29</td>\n",
       "            <td>25</td>\n",
       "            <td>20</td>\n",
       "            <td>1143050</td>\n",
       "            <td>1897546</td>\n",
       "            <td>2007</td>\n",
       "            <td>41.87490841</td>\n",
       "            <td>-87.75024931</td>\n",
       "            <td>(41.874908413, -87.750249307)</td>\n",
       "        </tr>\n",
       "    </tbody>\n",
       "</table>"
      ],
      "text/plain": [
       "[(5276766, 'HN144152', datetime.date(2007, 1, 26), '050XX W VAN BUREN ST', '1792', 'KIDNAPPING', 'CHILD ABDUCTION/STRANGER', 'STREET', 'FALSE', 'FALSE', 1533, 15, 29, 25, '20', 1143050, 1897546, 2007, Decimal('41.87490841'), Decimal('-87.75024931'), '(41.874908413, -87.750249307)')]"
      ]
     },
     "execution_count": 15,
     "metadata": {},
     "output_type": "execute_result"
    }
   ],
   "source": [
    "# Problem 4: List all kidnapping crimes involving a child?\n",
    "#(children are not considered minors for the purposes of crime analysis)\n",
    "%sql select * from CHICAGO_CRIME_DATA where Lower(PRIMARY_TYPE) ='kidnapping' and Lower(DESCRIPTION) like '%child%' "
   ]
  },
  {
   "cell_type": "markdown",
   "metadata": {},
   "source": [
    "Double-click **here** for the solution.\n",
    "\n",
    "<!-- Solution:\n",
    "\n",
    "%sql select COLNAME, TYPENAME, LENGTH from SYSCAT.COLUMNS where TABNAME = 'SCHOOLS'\n",
    "\n",
    "or\n",
    "\n",
    "%sql select distinct(NAME), COLTYPE, LENGTH from SYSIBM.SYSCOLUMNS where TBNAME = 'SCHOOLS'\n",
    "\n",
    "-->\n"
   ]
  },
  {
   "cell_type": "markdown",
   "metadata": {},
   "source": [
    "### Questions\n",
    "\n",
    "1.  Is the column name for the \"SCHOOL ID\" attribute in upper or mixed case?\n",
    "2.  What is the name of \"Community Area Name\" column in your table? Does it have spaces?\n",
    "3.  Are there any columns in whose names the spaces and paranthesis (round brackets) have been replaced by the underscore character \"_\"?\n"
   ]
  },
  {
   "cell_type": "markdown",
   "metadata": {},
   "source": [
    "## Problems\n",
    "\n",
    "### Problem 1\n",
    "\n",
    "##### How many Elementary Schools are in the dataset?\n"
   ]
  },
  {
   "cell_type": "code",
   "execution_count": 15,
   "metadata": {},
   "outputs": [
    {
     "name": "stdout",
     "output_type": "stream",
     "text": [
      " * ibm_db_sa://bnz94289:***@2f3279a5-73d1-4859-88f0-a6c3e6b4b907.c3n41cmd0nqnrk39u98g.databases.appdomain.cloud:30756/bludb\n",
      "Done.\n"
     ]
    },
    {
     "data": {
      "text/html": [
       "<table>\n",
       "    <thead>\n",
       "        <tr>\n",
       "            <th>1</th>\n",
       "        </tr>\n",
       "    </thead>\n",
       "    <tbody>\n",
       "        <tr>\n",
       "            <td>462</td>\n",
       "        </tr>\n",
       "    </tbody>\n",
       "</table>"
      ],
      "text/plain": [
       "[(462,)]"
      ]
     },
     "execution_count": 15,
     "metadata": {},
     "output_type": "execute_result"
    }
   ],
   "source": [
    "%sql select count(*) from SCHOOLS where ELEMENTARY__MIDDLE__OR_HIGH_SCHOOL='ES'"
   ]
  },
  {
   "cell_type": "markdown",
   "metadata": {},
   "source": [
    "Double-click **here** for a hint\n",
    "\n",
    "<!--\n",
    "Which column specifies the school type e.g. 'ES', 'MS', 'HS'? (\"Elementary School, Middle School, High School\")\n",
    "-->\n"
   ]
  },
  {
   "cell_type": "markdown",
   "metadata": {},
   "source": [
    "Double-click **here** for another hint\n",
    "\n",
    "<!--\n",
    "Does the column name have mixed case, spaces or other special characters?\n",
    "If so, ensure you use double quotes around the \"Name of the Column\"\n",
    "-->\n"
   ]
  },
  {
   "cell_type": "markdown",
   "metadata": {},
   "source": [
    "Double-click **here** for the solution.\n",
    "\n",
    "<!-- Solution:\n",
    "\n",
    "%sql select count(*) from SCHOOLS where \"Elementary, Middle, or High School\" = 'ES'\n",
    "\n",
    "Correct answer: 462\n",
    "\n",
    "-->\n"
   ]
  },
  {
   "cell_type": "markdown",
   "metadata": {},
   "source": [
    "### Problem 2\n",
    "\n",
    "##### What is the highest Safety Score?\n"
   ]
  },
  {
   "cell_type": "code",
   "execution_count": 16,
   "metadata": {},
   "outputs": [
    {
     "name": "stdout",
     "output_type": "stream",
     "text": [
      " * ibm_db_sa://bnz94289:***@2f3279a5-73d1-4859-88f0-a6c3e6b4b907.c3n41cmd0nqnrk39u98g.databases.appdomain.cloud:30756/bludb\n",
      "Done.\n"
     ]
    },
    {
     "data": {
      "text/html": [
       "<table>\n",
       "    <thead>\n",
       "        <tr>\n",
       "            <th>max_safety_score</th>\n",
       "        </tr>\n",
       "    </thead>\n",
       "    <tbody>\n",
       "        <tr>\n",
       "            <td>99</td>\n",
       "        </tr>\n",
       "    </tbody>\n",
       "</table>"
      ],
      "text/plain": [
       "[(99,)]"
      ]
     },
     "execution_count": 16,
     "metadata": {},
     "output_type": "execute_result"
    }
   ],
   "source": [
    "%sql select MAX(Safety_Score) AS MAX_SAFETY_SCORE from SCHOOLS"
   ]
  },
  {
   "cell_type": "markdown",
   "metadata": {},
   "source": [
    "Double-click **here** for a hint\n",
    "\n",
    "<!--\n",
    "Use the MAX() function\n",
    "-->\n"
   ]
  },
  {
   "cell_type": "markdown",
   "metadata": {},
   "source": [
    "Double-click **here** for the solution.\n",
    "\n",
    "<!-- Hint:\n",
    "\n",
    "%sql select MAX(Safety_Score) AS MAX_SAFETY_SCORE from SCHOOLS\n",
    "\n",
    "Correct answer: 99\n",
    "-->\n"
   ]
  },
  {
   "cell_type": "markdown",
   "metadata": {},
   "source": [
    "### Problem 3\n",
    "\n",
    "##### Which schools have highest Safety Score?\n"
   ]
  },
  {
   "cell_type": "code",
   "execution_count": 17,
   "metadata": {},
   "outputs": [
    {
     "name": "stdout",
     "output_type": "stream",
     "text": [
      " * ibm_db_sa://bnz94289:***@2f3279a5-73d1-4859-88f0-a6c3e6b4b907.c3n41cmd0nqnrk39u98g.databases.appdomain.cloud:30756/bludb\n",
      "Done.\n"
     ]
    },
    {
     "data": {
      "text/html": [
       "<table>\n",
       "    <thead>\n",
       "        <tr>\n",
       "            <th>name_of_school</th>\n",
       "            <th>safety_score</th>\n",
       "        </tr>\n",
       "    </thead>\n",
       "    <tbody>\n",
       "        <tr>\n",
       "            <td>Abraham Lincoln Elementary School</td>\n",
       "            <td>99</td>\n",
       "        </tr>\n",
       "        <tr>\n",
       "            <td>Alexander Graham Bell Elementary School</td>\n",
       "            <td>99</td>\n",
       "        </tr>\n",
       "        <tr>\n",
       "            <td>Annie Keller Elementary Gifted Magnet School</td>\n",
       "            <td>99</td>\n",
       "        </tr>\n",
       "        <tr>\n",
       "            <td>Augustus H Burley Elementary School</td>\n",
       "            <td>99</td>\n",
       "        </tr>\n",
       "        <tr>\n",
       "            <td>Edgar Allan Poe Elementary Classical School</td>\n",
       "            <td>99</td>\n",
       "        </tr>\n",
       "        <tr>\n",
       "            <td>Edgebrook Elementary School</td>\n",
       "            <td>99</td>\n",
       "        </tr>\n",
       "        <tr>\n",
       "            <td>Ellen Mitchell Elementary School</td>\n",
       "            <td>99</td>\n",
       "        </tr>\n",
       "        <tr>\n",
       "            <td>James E McDade Elementary Classical School</td>\n",
       "            <td>99</td>\n",
       "        </tr>\n",
       "        <tr>\n",
       "            <td>James G Blaine Elementary School</td>\n",
       "            <td>99</td>\n",
       "        </tr>\n",
       "        <tr>\n",
       "            <td>LaSalle Elementary Language Academy</td>\n",
       "            <td>99</td>\n",
       "        </tr>\n",
       "        <tr>\n",
       "            <td>Mary E Courtenay Elementary Language Arts Center</td>\n",
       "            <td>99</td>\n",
       "        </tr>\n",
       "        <tr>\n",
       "            <td>Northside College Preparatory High School</td>\n",
       "            <td>99</td>\n",
       "        </tr>\n",
       "        <tr>\n",
       "            <td>Northside Learning Center High School</td>\n",
       "            <td>99</td>\n",
       "        </tr>\n",
       "        <tr>\n",
       "            <td>Norwood Park Elementary School</td>\n",
       "            <td>99</td>\n",
       "        </tr>\n",
       "        <tr>\n",
       "            <td>Oriole Park Elementary School</td>\n",
       "            <td>99</td>\n",
       "        </tr>\n",
       "        <tr>\n",
       "            <td>Sauganash Elementary School</td>\n",
       "            <td>99</td>\n",
       "        </tr>\n",
       "        <tr>\n",
       "            <td>Stephen Decatur Classical Elementary School</td>\n",
       "            <td>99</td>\n",
       "        </tr>\n",
       "        <tr>\n",
       "            <td>Talman Elementary School</td>\n",
       "            <td>99</td>\n",
       "        </tr>\n",
       "        <tr>\n",
       "            <td>Wildwood Elementary School</td>\n",
       "            <td>99</td>\n",
       "        </tr>\n",
       "    </tbody>\n",
       "</table>"
      ],
      "text/plain": [
       "[('Abraham Lincoln Elementary School', 99),\n",
       " ('Alexander Graham Bell Elementary School', 99),\n",
       " ('Annie Keller Elementary Gifted Magnet School', 99),\n",
       " ('Augustus H Burley Elementary School', 99),\n",
       " ('Edgar Allan Poe Elementary Classical School', 99),\n",
       " ('Edgebrook Elementary School', 99),\n",
       " ('Ellen Mitchell Elementary School', 99),\n",
       " ('James E McDade Elementary Classical School', 99),\n",
       " ('James G Blaine Elementary School', 99),\n",
       " ('LaSalle Elementary Language Academy', 99),\n",
       " ('Mary E Courtenay Elementary Language Arts Center', 99),\n",
       " ('Northside College Preparatory High School', 99),\n",
       " ('Northside Learning Center High School', 99),\n",
       " ('Norwood Park Elementary School', 99),\n",
       " ('Oriole Park Elementary School', 99),\n",
       " ('Sauganash Elementary School', 99),\n",
       " ('Stephen Decatur Classical Elementary School', 99),\n",
       " ('Talman Elementary School', 99),\n",
       " ('Wildwood Elementary School', 99)]"
      ]
     },
     "execution_count": 17,
     "metadata": {},
     "output_type": "execute_result"
    }
   ],
   "source": [
    "%sql select Name_of_School, Safety_Score from SCHOOLS where \\\n",
    "  Safety_Score= (select MAX(Safety_Score) from SCHOOLS)"
   ]
  },
  {
   "cell_type": "markdown",
   "metadata": {},
   "source": [
    "Double-click **here** for the solution.\n",
    "\n",
    "<!-- Solution:\n",
    "In the previous problem we found out that the highest Safety Score is 99, so we can use that as an input in the where clause:\n",
    "\n",
    "%sql select Name_of_School, Safety_Score from SCHOOLS where Safety_Score = 99\n",
    "\n",
    "or, a better way:\n",
    "\n",
    "%sql select Name_of_School, Safety_Score from SCHOOLS where \\\n",
    "  Safety_Score= (select MAX(Safety_Score) from SCHOOLS)\n",
    "\n",
    "\n",
    "Correct answer: several schools with with Safety Score of 99.\n",
    "-->\n"
   ]
  },
  {
   "cell_type": "markdown",
   "metadata": {},
   "source": [
    "### Problem 4\n",
    "\n",
    "##### What are the top 10 schools with the highest \"Average Student Attendance\"?\n"
   ]
  },
  {
   "cell_type": "code",
   "execution_count": 23,
   "metadata": {},
   "outputs": [
    {
     "name": "stdout",
     "output_type": "stream",
     "text": [
      " * ibm_db_sa://bnz94289:***@2f3279a5-73d1-4859-88f0-a6c3e6b4b907.c3n41cmd0nqnrk39u98g.databases.appdomain.cloud:30756/bludb\n",
      "Done.\n"
     ]
    },
    {
     "data": {
      "text/html": [
       "<table>\n",
       "    <thead>\n",
       "        <tr>\n",
       "            <th>name_of_school</th>\n",
       "            <th>average_student_attendance</th>\n",
       "        </tr>\n",
       "    </thead>\n",
       "    <tbody>\n",
       "        <tr>\n",
       "            <td>Velma F Thomas Early Childhood Center</td>\n",
       "            <td>None</td>\n",
       "        </tr>\n",
       "        <tr>\n",
       "            <td>John Charles Haines Elementary School</td>\n",
       "            <td>98.40%</td>\n",
       "        </tr>\n",
       "        <tr>\n",
       "            <td>James Ward Elementary School</td>\n",
       "            <td>97.80%</td>\n",
       "        </tr>\n",
       "        <tr>\n",
       "            <td>Edgar Allan Poe Elementary Classical School</td>\n",
       "            <td>97.60%</td>\n",
       "        </tr>\n",
       "        <tr>\n",
       "            <td>Rachel Carson Elementary School</td>\n",
       "            <td>97.60%</td>\n",
       "        </tr>\n",
       "        <tr>\n",
       "            <td>Orozco Fine Arts &amp; Sciences Elementary School</td>\n",
       "            <td>97.60%</td>\n",
       "        </tr>\n",
       "        <tr>\n",
       "            <td>Annie Keller Elementary Gifted Magnet School</td>\n",
       "            <td>97.50%</td>\n",
       "        </tr>\n",
       "        <tr>\n",
       "            <td>Andrew Jackson Elementary Language Academy</td>\n",
       "            <td>97.40%</td>\n",
       "        </tr>\n",
       "        <tr>\n",
       "            <td>Lenart Elementary Regional Gifted Center</td>\n",
       "            <td>97.40%</td>\n",
       "        </tr>\n",
       "        <tr>\n",
       "            <td>Disney II Magnet School</td>\n",
       "            <td>97.30%</td>\n",
       "        </tr>\n",
       "    </tbody>\n",
       "</table>"
      ],
      "text/plain": [
       "[('Velma F Thomas Early Childhood Center', None),\n",
       " ('John Charles Haines Elementary School', '98.40%'),\n",
       " ('James Ward Elementary School', '97.80%'),\n",
       " ('Edgar Allan Poe Elementary Classical School', '97.60%'),\n",
       " ('Rachel Carson Elementary School', '97.60%'),\n",
       " ('Orozco Fine Arts & Sciences Elementary School', '97.60%'),\n",
       " ('Annie Keller Elementary Gifted Magnet School', '97.50%'),\n",
       " ('Andrew Jackson Elementary Language Academy', '97.40%'),\n",
       " ('Lenart Elementary Regional Gifted Center', '97.40%'),\n",
       " ('Disney II Magnet School', '97.30%')]"
      ]
     },
     "execution_count": 23,
     "metadata": {},
     "output_type": "execute_result"
    }
   ],
   "source": [
    "%sql select Name_of_School, Average_Student_Attendance from SCHOOLS \\\n",
    "    order by Average_Student_Attendance desc nulls first limit 10 "
   ]
  },
  {
   "cell_type": "markdown",
   "metadata": {},
   "source": [
    "Double-click **here** for the solution.\n",
    "\n",
    "<!-- Solution:\n",
    "\n",
    "%sql select Name_of_School, Average_Student_Attendance from SCHOOLS \\\n",
    "    order by Average_Student_Attendance desc nulls last limit 10 \n",
    "\n",
    "-->\n"
   ]
  },
  {
   "cell_type": "markdown",
   "metadata": {},
   "source": [
    "### Problem 5\n",
    "\n",
    "##### Retrieve the list of 5 Schools with the lowest Average Student Attendance sorted in ascending order based on attendance\n"
   ]
  },
  {
   "cell_type": "code",
   "execution_count": 17,
   "metadata": {},
   "outputs": [
    {
     "name": "stdout",
     "output_type": "stream",
     "text": [
      " * ibm_db_sa://bnz94289:***@2f3279a5-73d1-4859-88f0-a6c3e6b4b907.c3n41cmd0nqnrk39u98g.databases.appdomain.cloud:30756/bludb\n",
      "Done.\n"
     ]
    },
    {
     "data": {
      "text/html": [
       "<table>\n",
       "    <thead>\n",
       "        <tr>\n",
       "            <th>primary_type</th>\n",
       "        </tr>\n",
       "    </thead>\n",
       "    <tbody>\n",
       "        <tr>\n",
       "            <td>BATTERY</td>\n",
       "        </tr>\n",
       "        <tr>\n",
       "            <td>BATTERY</td>\n",
       "        </tr>\n",
       "        <tr>\n",
       "            <td>BATTERY</td>\n",
       "        </tr>\n",
       "        <tr>\n",
       "            <td>BATTERY</td>\n",
       "        </tr>\n",
       "        <tr>\n",
       "            <td>BATTERY</td>\n",
       "        </tr>\n",
       "        <tr>\n",
       "            <td>CRIMINAL DAMAGE</td>\n",
       "        </tr>\n",
       "        <tr>\n",
       "            <td>NARCOTICS</td>\n",
       "        </tr>\n",
       "        <tr>\n",
       "            <td>NARCOTICS</td>\n",
       "        </tr>\n",
       "        <tr>\n",
       "            <td>ASSAULT</td>\n",
       "        </tr>\n",
       "        <tr>\n",
       "            <td>CRIMINAL TRESPA</td>\n",
       "        </tr>\n",
       "        <tr>\n",
       "            <td>PUBLIC PEACE VI</td>\n",
       "        </tr>\n",
       "        <tr>\n",
       "            <td>PUBLIC PEACE VI</td>\n",
       "        </tr>\n",
       "    </tbody>\n",
       "</table>"
      ],
      "text/plain": [
       "[('BATTERY',),\n",
       " ('BATTERY',),\n",
       " ('BATTERY',),\n",
       " ('BATTERY',),\n",
       " ('BATTERY',),\n",
       " ('CRIMINAL DAMAGE',),\n",
       " ('NARCOTICS',),\n",
       " ('NARCOTICS',),\n",
       " ('ASSAULT',),\n",
       " ('CRIMINAL TRESPA',),\n",
       " ('PUBLIC PEACE VI',),\n",
       " ('PUBLIC PEACE VI',)]"
      ]
     },
     "execution_count": 17,
     "metadata": {},
     "output_type": "execute_result"
    }
   ],
   "source": [
    "#Problem 5: What kind of crimes were recorded at schools?\n",
    "%sql select primary_type from CHICAGO_CRIME_DATA where Lower(LOCATION_DESCRIPTION) like '%school%' "
   ]
  },
  {
   "cell_type": "markdown",
   "metadata": {},
   "source": [
    "Double-click **here** for the solution.\n",
    "\n",
    "<!-- Solution:\n",
    "\n",
    "%sql SELECT Name_of_School, Average_Student_Attendance  \\\n",
    "     from SCHOOLS \\\n",
    "     order by Average_Student_Attendance \\\n",
    "     fetch first 5 rows only\n",
    "\n",
    "-->\n"
   ]
  },
  {
   "cell_type": "markdown",
   "metadata": {},
   "source": [
    "### Problem 6\n",
    "\n",
    "##### Problem 6: List the average safety score for all types of schools.\n"
   ]
  },
  {
   "cell_type": "code",
   "execution_count": 25,
   "metadata": {},
   "outputs": [
    {
     "name": "stdout",
     "output_type": "stream",
     "text": [
      " * ibm_db_sa://bnz94289:***@2f3279a5-73d1-4859-88f0-a6c3e6b4b907.c3n41cmd0nqnrk39u98g.databases.appdomain.cloud:30756/bludb\n",
      "Done.\n"
     ]
    },
    {
     "data": {
      "text/html": [
       "<table>\n",
       "    <thead>\n",
       "        <tr>\n",
       "            <th>elementary__middle__or_high_school</th>\n",
       "            <th>AGV Savety score</th>\n",
       "        </tr>\n",
       "    </thead>\n",
       "    <tbody>\n",
       "        <tr>\n",
       "            <td>ES</td>\n",
       "            <td>49</td>\n",
       "        </tr>\n",
       "        <tr>\n",
       "            <td>HS</td>\n",
       "            <td>49</td>\n",
       "        </tr>\n",
       "        <tr>\n",
       "            <td>MS</td>\n",
       "            <td>48</td>\n",
       "        </tr>\n",
       "    </tbody>\n",
       "</table>"
      ],
      "text/plain": [
       "[('ES', 49), ('HS', 49), ('MS', 48)]"
      ]
     },
     "execution_count": 25,
     "metadata": {},
     "output_type": "execute_result"
    }
   ],
   "source": [
    "#Problem 6: List the average safety score for all types of schools.\n",
    "%sql SELECT ELEMENTARY__MIDDLE__OR_HIGH_SCHOOL, AVG(Safety_Score) as \"AGV Savety score\" \\\n",
    "     from CHICAGO_PUBLIC_SCHOOLS \\\n",
    "     group by ELEMENTARY__MIDDLE__OR_HIGH_SCHOOL\n",
    "    "
   ]
  },
  {
   "cell_type": "markdown",
   "metadata": {},
   "source": [
    "Double-click **here** for a hint\n",
    "\n",
    "<!--\n",
    "Use the REPLACE() function to replace '%' with ''\n",
    "See documentation for this function at:\n",
    "https://www.ibm.com/support/knowledgecenter/en/SSEPGG_10.5.0/com.ibm.db2.luw.sql.ref.doc/doc/r0000843.html\n",
    "-->\n"
   ]
  },
  {
   "cell_type": "markdown",
   "metadata": {},
   "source": [
    "Double-click **here** for the solution.\n",
    "\n",
    "<!-- Hint:\n",
    "\n",
    "%sql SELECT Name_of_School, REPLACE(Average_Student_Attendance, '%', '') \\\n",
    "     from SCHOOLS \\\n",
    "     order by Average_Student_Attendance \\\n",
    "     fetch first 5 rows only\n",
    "\n",
    "-->\n"
   ]
  },
  {
   "cell_type": "markdown",
   "metadata": {
    "tags": []
   },
   "source": [
    "Problem 7: Problem 7: List 5 community areas with highest % of households below poverty line.\n",
    "\n",
    "##### Which Schools have Average Student Attendance lower than 70%?\n"
   ]
  },
  {
   "cell_type": "code",
   "execution_count": 31,
   "metadata": {},
   "outputs": [
    {
     "name": "stdout",
     "output_type": "stream",
     "text": [
      " * ibm_db_sa://bnz94289:***@2f3279a5-73d1-4859-88f0-a6c3e6b4b907.c3n41cmd0nqnrk39u98g.databases.appdomain.cloud:30756/bludb\n",
      "Done.\n"
     ]
    },
    {
     "data": {
      "text/html": [
       "<table>\n",
       "    <thead>\n",
       "        <tr>\n",
       "            <th>community_area_name</th>\n",
       "            <th>percent_households_below_poverty</th>\n",
       "        </tr>\n",
       "    </thead>\n",
       "    <tbody>\n",
       "        <tr>\n",
       "            <td>Riverdale</td>\n",
       "            <td>56.5</td>\n",
       "        </tr>\n",
       "        <tr>\n",
       "            <td>Fuller Park</td>\n",
       "            <td>51.2</td>\n",
       "        </tr>\n",
       "        <tr>\n",
       "            <td>Englewood</td>\n",
       "            <td>46.6</td>\n",
       "        </tr>\n",
       "        <tr>\n",
       "            <td>North Lawndale</td>\n",
       "            <td>43.1</td>\n",
       "        </tr>\n",
       "        <tr>\n",
       "            <td>East Garfield Park</td>\n",
       "            <td>42.4</td>\n",
       "        </tr>\n",
       "    </tbody>\n",
       "</table>"
      ],
      "text/plain": [
       "[('Riverdale', Decimal('56.5')),\n",
       " ('Fuller Park', Decimal('51.2')),\n",
       " ('Englewood', Decimal('46.6')),\n",
       " ('North Lawndale', Decimal('43.1')),\n",
       " ('East Garfield Park', Decimal('42.4'))]"
      ]
     },
     "execution_count": 31,
     "metadata": {},
     "output_type": "execute_result"
    }
   ],
   "source": [
    "#Problem 7: List 5 community areas with highest % of households below poverty line.\n",
    "%sql SELECT COMMUNITY_AREA_NAME, PERCENT_HOUSEHOLDS_BELOW_POVERTY  \\\n",
    "     from CENSUS_DATA \\\n",
    "     order by PERCENT_HOUSEHOLDS_BELOW_POVERTY desc \\\n",
    "    fetch first 5 rows only\n"
   ]
  },
  {
   "cell_type": "markdown",
   "metadata": {},
   "source": [
    "Double-click **here** for a hint\n",
    "\n",
    "<!--\n",
    "The datatype of the \"Average_Student_Attendance\" column is varchar.\n",
    "So you cannot use it as is in the where clause for a numeric comparison.\n",
    "First use the CAST() function to cast it as a DECIMAL or DOUBLE\n",
    "e.g. CAST(\"Column_Name\" as DOUBLE)\n",
    "or simply: DECIMAL(\"Column_Name\")\n",
    "-->\n"
   ]
  },
  {
   "cell_type": "markdown",
   "metadata": {},
   "source": [
    "Double-click **here** for another hint\n",
    "\n",
    "<!--\n",
    "Don't forget the '%' age sign needs to be removed before casting\n",
    "-->\n"
   ]
  },
  {
   "cell_type": "markdown",
   "metadata": {},
   "source": [
    "Double-click **here** for the solution.\n",
    "\n",
    "<!-- Solution:\n",
    "\n",
    "%sql SELECT Name_of_School, Average_Student_Attendance  \\\n",
    "     from SCHOOLS \\\n",
    "     where CAST ( REPLACE(Average_Student_Attendance, '%', '') AS DOUBLE ) < 70 \\\n",
    "     order by Average_Student_Attendance\n",
    "     \n",
    "or,\n",
    "\n",
    "%sql SELECT Name_of_School, Average_Student_Attendance  \\\n",
    "     from SCHOOLS \\\n",
    "     where DECIMAL ( REPLACE(Average_Student_Attendance, '%', '') ) < 70 \\\n",
    "     order by Average_Student_Attendance\n",
    "\n",
    "-->\n"
   ]
  },
  {
   "cell_type": "markdown",
   "metadata": {},
   "source": [
    "### Problem 8\n",
    "\n",
    "##### Get the total College Enrollment for each Community Area\n"
   ]
  },
  {
   "cell_type": "code",
   "execution_count": 36,
   "metadata": {
    "scrolled": true,
    "tags": []
   },
   "outputs": [
    {
     "name": "stdout",
     "output_type": "stream",
     "text": [
      " * ibm_db_sa://bnz94289:***@2f3279a5-73d1-4859-88f0-a6c3e6b4b907.c3n41cmd0nqnrk39u98g.databases.appdomain.cloud:30756/bludb\n",
      "Done.\n"
     ]
    },
    {
     "data": {
      "text/html": [
       "<table>\n",
       "    <thead>\n",
       "        <tr>\n",
       "            <th>count_num</th>\n",
       "            <th>community_area_number</th>\n",
       "        </tr>\n",
       "    </thead>\n",
       "    <tbody>\n",
       "        <tr>\n",
       "            <td>43</td>\n",
       "            <td>25</td>\n",
       "        </tr>\n",
       "    </tbody>\n",
       "</table>"
      ],
      "text/plain": [
       "[(43, 25)]"
      ]
     },
     "execution_count": 36,
     "metadata": {},
     "output_type": "execute_result"
    }
   ],
   "source": [
    "#Problem 8: Which community area(number) is most crime prone?\n",
    "%sql select count(*) as \"COUNT_NUM\", COMMUNITY_AREA_NUMBER \\\n",
    "from CHICAGO_CRIME_DATA  \\\n",
    "group by COMMUNITY_AREA_NUMBER order by COUNT_NUM desc limit 1;"
   ]
  },
  {
   "cell_type": "markdown",
   "metadata": {},
   "source": [
    "Double-click **here** for a hint\n",
    "\n",
    "<!--\n",
    "Verify the exact name of the Enrollment column in the database\n",
    "Use the SUM() function to add up the Enrollments for each Community Area\n",
    "-->\n"
   ]
  },
  {
   "cell_type": "markdown",
   "metadata": {},
   "source": [
    "Double-click **here** for another hint\n",
    "\n",
    "<!--\n",
    "Don't forget to group by the Community Area\n",
    "-->\n"
   ]
  },
  {
   "cell_type": "markdown",
   "metadata": {},
   "source": [
    "Double-click **here** for the solution.\n",
    "\n",
    "<!-- Solution:\n",
    "\n",
    "%sql select Community_Area_Name, sum(College_Enrollment) AS TOTAL_ENROLLMENT \\\n",
    "   from SCHOOLS \\\n",
    "   group by Community_Area_Name \n",
    "\n",
    "-->\n"
   ]
  },
  {
   "cell_type": "markdown",
   "metadata": {},
   "source": [
    "### Problem 9\n",
    "\n",
    "##### Problem 9: Use a sub-query to find the name of the community area with highest hardship index.\n"
   ]
  },
  {
   "cell_type": "code",
   "execution_count": 39,
   "metadata": {},
   "outputs": [
    {
     "name": "stdout",
     "output_type": "stream",
     "text": [
      " * ibm_db_sa://bnz94289:***@2f3279a5-73d1-4859-88f0-a6c3e6b4b907.c3n41cmd0nqnrk39u98g.databases.appdomain.cloud:30756/bludb\n",
      "Done.\n"
     ]
    },
    {
     "data": {
      "text/html": [
       "<table>\n",
       "    <thead>\n",
       "        <tr>\n",
       "            <th>community_area_name</th>\n",
       "            <th>hardship_index</th>\n",
       "        </tr>\n",
       "    </thead>\n",
       "    <tbody>\n",
       "        <tr>\n",
       "            <td>Riverdale</td>\n",
       "            <td>98</td>\n",
       "        </tr>\n",
       "    </tbody>\n",
       "</table>"
      ],
      "text/plain": [
       "[('Riverdale', 98)]"
      ]
     },
     "execution_count": 39,
     "metadata": {},
     "output_type": "execute_result"
    }
   ],
   "source": [
    "#Problem 9: Use a sub-query to find the name of the community area with highest hardship index.\n",
    "%sql select Community_Area_Name, HARDSHIP_INDEX from CENSUS_DATA \\\n",
    "   where HARDSHIP_INDEX = (select Max(HARDSHIP_INDEX) from CENSUS_DATA )"
   ]
  },
  {
   "cell_type": "markdown",
   "metadata": {},
   "source": [
    "Double-click **here** for a hint\n",
    "\n",
    "<!--\n",
    "Order the previous query and limit the number of rows you fetch\n",
    "-->\n"
   ]
  },
  {
   "cell_type": "markdown",
   "metadata": {},
   "source": [
    "Double-click **here** for the solution.\n",
    "\n",
    "<!-- Solution:\n",
    "\n",
    "%sql select Community_Area_Name, sum(College_Enrollment) AS TOTAL_ENROLLMENT \\\n",
    "   from SCHOOLS \\\n",
    "   group by Community_Area_Name \\\n",
    "   order by TOTAL_ENROLLMENT asc \\\n",
    "   fetch first 5 rows only\n",
    "\n",
    "-->\n"
   ]
  },
  {
   "cell_type": "markdown",
   "metadata": {},
   "source": [
    "### Problem 10\n",
    "\n",
    "##### Problem 10: Use a sub-query to determine the Community Area Name with most number of crimes?\n"
   ]
  },
  {
   "cell_type": "code",
   "execution_count": 46,
   "metadata": {},
   "outputs": [
    {
     "name": "stdout",
     "output_type": "stream",
     "text": [
      " * ibm_db_sa://bnz94289:***@2f3279a5-73d1-4859-88f0-a6c3e6b4b907.c3n41cmd0nqnrk39u98g.databases.appdomain.cloud:30756/bludb\n",
      "Done.\n"
     ]
    },
    {
     "data": {
      "text/html": [
       "<table>\n",
       "    <thead>\n",
       "        <tr>\n",
       "            <th>community_area_name</th>\n",
       "        </tr>\n",
       "    </thead>\n",
       "    <tbody>\n",
       "        <tr>\n",
       "            <td>Austin</td>\n",
       "        </tr>\n",
       "    </tbody>\n",
       "</table>"
      ],
      "text/plain": [
       "[('Austin',)]"
      ]
     },
     "execution_count": 46,
     "metadata": {},
     "output_type": "execute_result"
    }
   ],
   "source": [
    "#Problem 10: Use a sub-query to determine the Community Area Name with most number of crimes?\n",
    "%sql select COMMUNITY_AREA_NAME from CENSUS_DATA \\\n",
    "    where COMMUNITY_AREA_NUMBER = \\\n",
    "    (select COMMUNITY_AREA_NUMBER from \\\n",
    "        (select COMMUNITY_AREA_NUMBER, count(*) as COUNT_NUM  \\\n",
    "        from CHICAGO_CRIME_DATA  \\\n",
    "        group by COMMUNITY_AREA_NUMBER order by COUNT_NUM desc limit 1))"
   ]
  },
  {
   "cell_type": "markdown",
   "metadata": {},
   "source": [
    "Double-click **here** for the solution.\n",
    "\n",
    "<!-- Solution:\n",
    "\n",
    "%sql SELECT name_of_school, safety_score \\\n",
    "FROM schools \\\n",
    "ORDER BY safety_score \\\n",
    "LIMIT 5\n",
    "-->\n"
   ]
  },
  {
   "cell_type": "markdown",
   "metadata": {},
   "source": [
    "### Problem 11\n",
    "\n",
    "##### Get the hardship index for the community area which has College Enrollment of 4368\n"
   ]
  },
  {
   "cell_type": "code",
   "execution_count": 34,
   "metadata": {},
   "outputs": [
    {
     "name": "stdout",
     "output_type": "stream",
     "text": [
      " * ibm_db_sa://bnz94289:***@2f3279a5-73d1-4859-88f0-a6c3e6b4b907.c3n41cmd0nqnrk39u98g.databases.appdomain.cloud:30756/bludb\n",
      "Done.\n"
     ]
    },
    {
     "data": {
      "text/html": [
       "<table>\n",
       "    <thead>\n",
       "        <tr>\n",
       "            <th>hardship_index</th>\n",
       "        </tr>\n",
       "    </thead>\n",
       "    <tbody>\n",
       "        <tr>\n",
       "            <td>6.0</td>\n",
       "        </tr>\n",
       "    </tbody>\n",
       "</table>"
      ],
      "text/plain": [
       "[(6.0,)]"
      ]
     },
     "execution_count": 34,
     "metadata": {},
     "output_type": "execute_result"
    }
   ],
   "source": [
    "%%sql \n",
    "select hardship_index \n",
    "   from chicago_socioeconomic_data CD, schools CPS \n",
    "   where CD.ca = CPS.community_area_number \n",
    "      and college_enrollment = 4368"
   ]
  },
  {
   "cell_type": "markdown",
   "metadata": {},
   "source": [
    "Double-click **here** for the solution.\n",
    "\n",
    "<!-- Solution:\n",
    "NOTE: For this solution to work the CHICAGO_SOCIOECONOMIC_DATA table \n",
    "      as created in the last lab of Week 3 should already exist\n",
    "\n",
    "%%sql \n",
    "select hardship_index \n",
    "   from chicago_socioeconomic_data CD, schools CPS \n",
    "   where CD.ca = CPS.community_area_number \n",
    "      and college_enrollment = 4368\n",
    "\n",
    "-->\n"
   ]
  },
  {
   "cell_type": "markdown",
   "metadata": {},
   "source": [
    "### Problem 12\n",
    "\n",
    "##### Get the hardship index for the community area which has the school with the  highest enrollment.\n"
   ]
  },
  {
   "cell_type": "code",
   "execution_count": null,
   "metadata": {},
   "outputs": [],
   "source": [
    "\n",
    "%sql select ca, community_area_name, hardship_index from chicago_socioeconomic_data \\\n",
    "   where ca in \\\n",
    "   ( select community_area_number from schools order by college_enrollment desc limit 1 )"
   ]
  },
  {
   "cell_type": "markdown",
   "metadata": {},
   "source": [
    "Double-click **here** for the solution.\n",
    "\n",
    "<!-- Solution:\n",
    "NOTE: For this solution to work the CHICAGO_SOCIOECONOMIC_DATA table \n",
    "      as created in the last lab of Week 3 should already exist\n",
    "\n",
    "%sql select ca, community_area_name, hardship_index from chicago_socioeconomic_data \\\n",
    "   where ca in \\\n",
    "   ( select community_area_number from schools order by college_enrollment desc limit 1 )\n",
    "\n",
    "-->\n"
   ]
  },
  {
   "cell_type": "markdown",
   "metadata": {},
   "source": [
    "## Summary\n",
    "\n",
    "##### In this lab you learned how to work with a real word dataset using SQL and Python. You learned how to query columns with spaces or special characters in their names and with mixed case names. You also used built in database functions and practiced how to sort, limit, and order result sets, as well as used sub-queries and worked with multiple tables.\n"
   ]
  },
  {
   "cell_type": "markdown",
   "metadata": {},
   "source": [
    "## Author\n",
    "\n",
    "<a href=\"https://www.linkedin.com/in/ravahuja/?utm_medium=Exinfluencer&utm_source=Exinfluencer&utm_content=000026UJ&utm_term=10006555&utm_id=NA-SkillsNetwork-Channel-SkillsNetworkCoursesIBMDeveloperSkillsNetworkDB0201ENSkillsNetwork22-2022-01-01\" target=\"_blank\">Rav Ahuja</a>\n",
    "\n",
    "## Change Log\n",
    "\n",
    "| Date (YYYY-MM-DD) | Version | Changed By | Change Description                 |\n",
    "| ----------------- | ------- | ---------- | ---------------------------------- |\n",
    "| 2021-07-09        | 2.4     | Malika     | Updated connection string  |\n",
    "| 2021-05-19        | 2.3     | Lakshmi Holla |Updated question     |\n",
    "| 2021-04-20        | 2.2     | Malika     | Added the libraries                |\n",
    "| 2020-11-27        | 2.1     | Sannareddy Ramesh    | Modified data sets and added new problems |\n",
    "| 2020-08-28        | 2.0     | Lavanya    | Moved lab to course repo in GitLab |\n",
    "\n",
    "<hr>\n",
    "\n",
    "## <h3 align=\"center\"> © IBM Corporation 2020. All rights reserved. <h3/>\n"
   ]
  }
 ],
 "metadata": {
  "kernelspec": {
   "display_name": "Python",
   "language": "python",
   "name": "conda-env-python-py"
  },
  "language_info": {
   "codemirror_mode": {
    "name": "ipython",
    "version": 3
   },
   "file_extension": ".py",
   "mimetype": "text/x-python",
   "name": "python",
   "nbconvert_exporter": "python",
   "pygments_lexer": "ipython3",
   "version": "3.7.12"
  }
 },
 "nbformat": 4,
 "nbformat_minor": 4
}
